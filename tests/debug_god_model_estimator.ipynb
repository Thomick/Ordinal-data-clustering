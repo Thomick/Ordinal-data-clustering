{
 "cells": [
  {
   "cell_type": "code",
   "execution_count": 1,
   "metadata": {},
   "outputs": [],
   "source": [
    "%load_ext autoreload\n",
    "%autoreload 2"
   ]
  },
  {
   "cell_type": "code",
   "execution_count": 3,
   "metadata": {},
   "outputs": [
    {
     "name": "stdout",
     "output_type": "stream",
     "text": [
      "/media/DData/Data/M2/Cours/Probabilistic graphical models/Projet/Ordinal-data-clustering\n"
     ]
    }
   ],
   "source": [
    "cd .."
   ]
  },
  {
   "cell_type": "code",
   "execution_count": 3,
   "metadata": {},
   "outputs": [],
   "source": [
    "from god_model_generator import god_model_sample\n",
    "from god_model_estimator import estimate_mu_pi, probability_distribution_xs_given_pi, estimate_mu_given_pi, probability_distribution_x_given_pi, likelihood_distribution_xs_given_pi, estimate_mu_pi_grid, estimate_mu_pi_torch\n",
    "from compute_u import compute_u\n",
    "from god_model_tools import evaluate_polynomial\n",
    "import numpy as np\n",
    "import matplotlib.pyplot as plt\n",
    "import cvxpy as cp"
   ]
  },
  {
   "cell_type": "code",
   "execution_count": 4,
   "metadata": {},
   "outputs": [],
   "source": [
    "def probability_x_given_pi_mu_from_u(m: int, x:int, pi: float, mu: int, u: np.ndarray) -> float:\n",
    "    \"\"\" \n",
    "    Returns P(X=x | pi, mu) computed from u\n",
    "    P(X=x | pi, mu) = pi^m sum_{d=0}^m [ (1-pi) / pi ]^d u[mu, x, d]\n",
    "    \n",
    "    Parameters\n",
    "    ----------\n",
    "    m : int\n",
    "        Number of categories\n",
    "    x : int\n",
    "        Observed category\n",
    "    pi : float\n",
    "        Probability of error\n",
    "    mu : int\n",
    "        Supposed true category\n",
    "    u : np.ndarray\n",
    "        u coefficients computed with compute_u\n",
    "    \n",
    "    Returns\n",
    "    -------\n",
    "    float\n",
    "        P(X=x | pi, mu)\n",
    "    \"\"\"\n",
    "    p = pi**m * np.sum(((1-pi) / pi)**np.arange(m+1) * u[mu, x - 1, :])\n",
    "    p_ = pi ** m * evaluate_polynomial(u[mu, x - 1], (1-pi) / pi)\n",
    "    assert np.isclose(p, p_), f\"p={p} != p_={p_}\"\n",
    "    assert 0 <= p <= 1, f\"p={p} not in [0, 1]\"\n",
    "    return p"
   ]
  },
  {
   "cell_type": "code",
   "execution_count": 5,
   "metadata": {},
   "outputs": [],
   "source": [
    "M = 5\n",
    "u = compute_u(M)"
   ]
  },
  {
   "cell_type": "code",
   "execution_count": 137,
   "metadata": {},
   "outputs": [
    {
     "name": "stdout",
     "output_type": "stream",
     "text": [
      "mu=1, mu_hat=2, argmax P(X | mu) 1 = mu ? Y, pi=0.6, pi_hat=0.54 X\n",
      "mu=1, mu_hat=2, argmax P(X | mu) 1 = mu ? Y, pi=0.7, pi_hat=0.61 X\n",
      "mu=1, mu_hat=2, argmax P(X | mu) 1 = mu ? Y, pi=0.8, pi_hat=0.61 X\n",
      "mu=1, mu_hat=2, argmax P(X | mu) 1 = mu ? Y, pi=0.9, pi_hat=0.55 X\n"
     ]
    },
    {
     "name": "stderr",
     "output_type": "stream",
     "text": [
      "/media/DData/Data/M2/Cours/Probabilistic graphical models/Projet/Ordinal-data-clustering/tests/god_model_estimator.py:76: RuntimeWarning: divide by zero encountered in log\n",
      "  return p\n"
     ]
    },
    {
     "name": "stdout",
     "output_type": "stream",
     "text": [
      "mu=1, mu_hat=1, argmax P(X | mu) 1 = mu ? Y, pi=1.0, pi_hat=1.00 O\n",
      "mu=2, mu_hat=3, argmax P(X | mu) 2 = mu ? Y, pi=0.6, pi_hat=0.51 X\n",
      "mu=2, mu_hat=3, argmax P(X | mu) 2 = mu ? Y, pi=0.7, pi_hat=0.60 X\n",
      "mu=2, mu_hat=3, argmax P(X | mu) 2 = mu ? Y, pi=0.8, pi_hat=0.63 X\n",
      "mu=2, mu_hat=3, argmax P(X | mu) 2 = mu ? Y, pi=0.9, pi_hat=0.65 X\n",
      "mu=2, mu_hat=2, argmax P(X | mu) 2 = mu ? Y, pi=1.0, pi_hat=1.00 O\n",
      "mu=3, mu_hat=2, argmax P(X | mu) 3 = mu ? Y, pi=0.6, pi_hat=0.51 X\n",
      "mu=3, mu_hat=1, argmax P(X | mu) 3 = mu ? Y, pi=0.7, pi_hat=0.51 X\n",
      "mu=3, mu_hat=2, argmax P(X | mu) 3 = mu ? Y, pi=0.8, pi_hat=0.69 X\n",
      "mu=3, mu_hat=4, argmax P(X | mu) 3 = mu ? Y, pi=0.9, pi_hat=0.69 X\n",
      "mu=3, mu_hat=3, argmax P(X | mu) 3 = mu ? Y, pi=1.0, pi_hat=1.00 O\n",
      "mu=4, mu_hat=3, argmax P(X | mu) 4 = mu ? Y, pi=0.6, pi_hat=0.51 X\n",
      "mu=4, mu_hat=3, argmax P(X | mu) 4 = mu ? Y, pi=0.7, pi_hat=0.59 X\n",
      "mu=4, mu_hat=3, argmax P(X | mu) 4 = mu ? Y, pi=0.8, pi_hat=0.67 X\n",
      "mu=4, mu_hat=3, argmax P(X | mu) 4 = mu ? Y, pi=0.9, pi_hat=0.66 X\n",
      "mu=4, mu_hat=4, argmax P(X | mu) 4 = mu ? Y, pi=1.0, pi_hat=1.00 O\n",
      "mu=5, mu_hat=4, argmax P(X | mu) 5 = mu ? Y, pi=0.6, pi_hat=0.51 X\n",
      "mu=5, mu_hat=4, argmax P(X | mu) 5 = mu ? Y, pi=0.7, pi_hat=0.59 X\n",
      "mu=5, mu_hat=4, argmax P(X | mu) 5 = mu ? Y, pi=0.8, pi_hat=0.62 X\n",
      "mu=5, mu_hat=4, argmax P(X | mu) 5 = mu ? Y, pi=0.9, pi_hat=0.56 X\n",
      "mu=5, mu_hat=5, argmax P(X | mu) 5 = mu ? Y, pi=1.0, pi_hat=1.00 O\n"
     ]
    }
   ],
   "source": [
    "for i in range(1, 6):\n",
    "    for pi in [0.6, 0.7, 0.8, 0.9, 1.0]:\n",
    "        xs = god_model_sample(m=5, mu=i, pi=pi, n_sample=1_000, seed=0)\n",
    "        mu_hat, pi_hat, _ = estimate_mu_pi(m=5, data=xs, n_iter_max=10_000, pi_zero=0.7)\n",
    "        mu_hat_knowing_pi = estimate_mu_given_pi(m=5, data=xs, pi=pi)\n",
    "        print(f\"mu={i}, mu_hat={mu_hat}, argmax P(X | mu) {mu_hat_knowing_pi} = mu ? {'Y' if mu_hat_knowing_pi == i else 'N' * 10}, pi={pi}, pi_hat={pi_hat:.2f} {'O' if mu_hat == i else 'X'}\")"
   ]
  },
  {
   "cell_type": "code",
   "execution_count": 138,
   "metadata": {},
   "outputs": [
    {
     "name": "stderr",
     "output_type": "stream",
     "text": [
      "/media/DData/Data/M2/Cours/Probabilistic graphical models/Projet/Ordinal-data-clustering/tests/god_model_estimator.py:175: RuntimeWarning: divide by zero encountered in log\n",
      "  log_likelihood += np.log(evaluate_polynomial(p=u_mu[x - 1], x=t))\n"
     ]
    },
    {
     "name": "stdout",
     "output_type": "stream",
     "text": [
      "mu=1, mu_hat=1, argmax P(X | mu) 1 = mu ? Y, pi=0.6, pi_hat=0.61 O\n",
      "mu=1, mu_hat=1, argmax P(X | mu) 1 = mu ? Y, pi=0.7, pi_hat=0.70 O\n",
      "mu=1, mu_hat=1, argmax P(X | mu) 1 = mu ? Y, pi=0.8, pi_hat=0.79 O\n",
      "mu=1, mu_hat=1, argmax P(X | mu) 1 = mu ? Y, pi=0.9, pi_hat=0.90 O\n",
      "mu=1, mu_hat=1, argmax P(X | mu) 1 = mu ? Y, pi=1.0, pi_hat=1.00 O\n",
      "mu=2, mu_hat=2, argmax P(X | mu) 2 = mu ? Y, pi=0.6, pi_hat=0.60 O\n",
      "mu=2, mu_hat=2, argmax P(X | mu) 2 = mu ? Y, pi=0.7, pi_hat=0.69 O\n",
      "mu=2, mu_hat=2, argmax P(X | mu) 2 = mu ? Y, pi=0.8, pi_hat=0.79 O\n",
      "mu=2, mu_hat=2, argmax P(X | mu) 2 = mu ? Y, pi=0.9, pi_hat=0.89 O\n",
      "mu=2, mu_hat=2, argmax P(X | mu) 2 = mu ? Y, pi=1.0, pi_hat=1.00 O\n",
      "mu=3, mu_hat=3, argmax P(X | mu) 3 = mu ? Y, pi=0.6, pi_hat=0.61 O\n",
      "mu=3, mu_hat=3, argmax P(X | mu) 3 = mu ? Y, pi=0.7, pi_hat=0.71 O\n",
      "mu=3, mu_hat=3, argmax P(X | mu) 3 = mu ? Y, pi=0.8, pi_hat=0.79 O\n",
      "mu=3, mu_hat=3, argmax P(X | mu) 3 = mu ? Y, pi=0.9, pi_hat=0.89 O\n",
      "mu=3, mu_hat=3, argmax P(X | mu) 3 = mu ? Y, pi=1.0, pi_hat=1.00 O\n",
      "mu=4, mu_hat=4, argmax P(X | mu) 4 = mu ? Y, pi=0.6, pi_hat=0.60 O\n",
      "mu=4, mu_hat=4, argmax P(X | mu) 4 = mu ? Y, pi=0.7, pi_hat=0.69 O\n",
      "mu=4, mu_hat=4, argmax P(X | mu) 4 = mu ? Y, pi=0.8, pi_hat=0.80 O\n",
      "mu=4, mu_hat=4, argmax P(X | mu) 4 = mu ? Y, pi=0.9, pi_hat=0.89 O\n",
      "mu=4, mu_hat=4, argmax P(X | mu) 4 = mu ? Y, pi=1.0, pi_hat=1.00 O\n",
      "mu=5, mu_hat=5, argmax P(X | mu) 5 = mu ? Y, pi=0.6, pi_hat=0.61 O\n",
      "mu=5, mu_hat=5, argmax P(X | mu) 5 = mu ? Y, pi=0.7, pi_hat=0.70 O\n",
      "mu=5, mu_hat=5, argmax P(X | mu) 5 = mu ? Y, pi=0.8, pi_hat=0.79 O\n",
      "mu=5, mu_hat=5, argmax P(X | mu) 5 = mu ? Y, pi=0.9, pi_hat=0.89 O\n",
      "mu=5, mu_hat=5, argmax P(X | mu) 5 = mu ? Y, pi=1.0, pi_hat=1.00 O\n"
     ]
    }
   ],
   "source": [
    "for i in range(1, 6):\n",
    "    for pi in [0.6, 0.7, 0.8, 0.9, 1.0]:\n",
    "        xs = god_model_sample(m=5, mu=i, pi=pi, n_sample=1_000, seed=0)\n",
    "        mu_hat, pi_hat, _ = estimate_mu_pi_grid(m=5, data=xs, nb_pi=100)\n",
    "        mu_hat_knowing_pi = estimate_mu_given_pi(m=5, data=xs, pi=pi)\n",
    "        print(f\"mu={i}, mu_hat={mu_hat}, argmax P(X | mu) {mu_hat_knowing_pi} = mu ? {'Y' if mu_hat_knowing_pi == i else 'N' * 10}, pi={pi}, pi_hat={pi_hat:.2f} {'O' if mu_hat == i else 'X'}\")"
   ]
  },
  {
   "cell_type": "code",
   "execution_count": 140,
   "metadata": {},
   "outputs": [
    {
     "name": "stdout",
     "output_type": "stream",
     "text": [
      "Unexpected exception formatting exception. Falling back to standard exception\n"
     ]
    },
    {
     "name": "stderr",
     "output_type": "stream",
     "text": [
      "Traceback (most recent call last):\n",
      "  File \"/home/theo/anaconda3/envs/ENV_3_9_15/lib/python3.9/site-packages/IPython/core/interactiveshell.py\", line 3433, in run_code\n",
      "    exec(code_obj, self.user_global_ns, self.user_ns)\n",
      "  File \"/tmp/ipykernel_26408/4279512873.py\", line 4, in <module>\n",
      "    mu_hat, pi_hat, _ = estimate_mu_pi_torch(m=5, data=xs)\n",
      "  File \"/media/DData/Data/M2/Cours/Probabilistic graphical models/Projet/Ordinal-data-clustering/tests/god_model_estimator.py\", line 567, in estimate_mu_pi_torch\n",
      "    u = compute_u(m)\n",
      "  File \"/media/DData/Data/M2/Cours/Probabilistic graphical models/Projet/Ordinal-data-clustering/tests/god_model_estimator.py\", line 529, in optimize_log_likelihood\n",
      "    optimizer.zero_grad()\n",
      "  File \"/media/DData/Data/M2/Cours/Probabilistic graphical models/Projet/Ordinal-data-clustering/tests/god_model_estimator.py\", line 495, in compute_log_likelihood_torch\n",
      "AssertionError: Log-likelihood should be negative, but nan > 0\n",
      "\n",
      "During handling of the above exception, another exception occurred:\n",
      "\n",
      "Traceback (most recent call last):\n",
      "  File \"/home/theo/anaconda3/envs/ENV_3_9_15/lib/python3.9/site-packages/IPython/core/interactiveshell.py\", line 2052, in showtraceback\n",
      "    stb = self.InteractiveTB.structured_traceback(\n",
      "  File \"/home/theo/anaconda3/envs/ENV_3_9_15/lib/python3.9/site-packages/IPython/core/ultratb.py\", line 1112, in structured_traceback\n",
      "    return FormattedTB.structured_traceback(\n",
      "  File \"/home/theo/anaconda3/envs/ENV_3_9_15/lib/python3.9/site-packages/IPython/core/ultratb.py\", line 1006, in structured_traceback\n",
      "    return VerboseTB.structured_traceback(\n",
      "  File \"/home/theo/anaconda3/envs/ENV_3_9_15/lib/python3.9/site-packages/IPython/core/ultratb.py\", line 859, in structured_traceback\n",
      "    formatted_exception = self.format_exception_as_a_whole(etype, evalue, etb, number_of_lines_of_context,\n",
      "  File \"/home/theo/anaconda3/envs/ENV_3_9_15/lib/python3.9/site-packages/IPython/core/ultratb.py\", line 812, in format_exception_as_a_whole\n",
      "    frames.append(self.format_record(r))\n",
      "  File \"/home/theo/anaconda3/envs/ENV_3_9_15/lib/python3.9/site-packages/IPython/core/ultratb.py\", line 730, in format_record\n",
      "    result += ''.join(_format_traceback_lines(frame_info.lines, Colors, self.has_colors, lvals))\n",
      "  File \"/home/theo/anaconda3/envs/ENV_3_9_15/lib/python3.9/site-packages/stack_data/utils.py\", line 145, in cached_property_wrapper\n",
      "    value = obj.__dict__[self.func.__name__] = self.func(obj)\n",
      "  File \"/home/theo/anaconda3/envs/ENV_3_9_15/lib/python3.9/site-packages/stack_data/core.py\", line 698, in lines\n",
      "    pieces = self.included_pieces\n",
      "  File \"/home/theo/anaconda3/envs/ENV_3_9_15/lib/python3.9/site-packages/stack_data/utils.py\", line 145, in cached_property_wrapper\n",
      "    value = obj.__dict__[self.func.__name__] = self.func(obj)\n",
      "  File \"/home/theo/anaconda3/envs/ENV_3_9_15/lib/python3.9/site-packages/stack_data/core.py\", line 649, in included_pieces\n",
      "    pos = scope_pieces.index(self.executing_piece)\n",
      "  File \"/home/theo/anaconda3/envs/ENV_3_9_15/lib/python3.9/site-packages/stack_data/utils.py\", line 145, in cached_property_wrapper\n",
      "    value = obj.__dict__[self.func.__name__] = self.func(obj)\n",
      "  File \"/home/theo/anaconda3/envs/ENV_3_9_15/lib/python3.9/site-packages/stack_data/core.py\", line 628, in executing_piece\n",
      "    return only(\n",
      "  File \"/home/theo/anaconda3/envs/ENV_3_9_15/lib/python3.9/site-packages/executing/executing.py\", line 164, in only\n",
      "    raise NotOneValueFound('Expected one value, found 0')\n",
      "executing.executing.NotOneValueFound: Expected one value, found 0\n"
     ]
    }
   ],
   "source": [
    "for i in range(1, 6):\n",
    "    for pi in [0.6, 0.7, 0.8, 0.9, 1.0]:\n",
    "        xs = god_model_sample(m=5, mu=i, pi=pi, n_sample=1_000, seed=0)\n",
    "        mu_hat, pi_hat, _ = estimate_mu_pi_torch(m=5, data=xs)\n",
    "        mu_hat_knowing_pi = estimate_mu_given_pi(m=5, data=xs, pi=pi)\n",
    "        print(f\"mu={i}, mu_hat={mu_hat}, argmax P(X | mu) {mu_hat_knowing_pi} = mu ? {'Y' if mu_hat_knowing_pi == i else 'N' * 10}, pi={pi}, pi_hat={pi_hat:.2f} {'O' if mu_hat == i else 'X'}\")"
   ]
  },
  {
   "cell_type": "code",
   "execution_count": 6,
   "metadata": {},
   "outputs": [
    {
     "data": {
      "text/plain": [
       "array([2, 2, 2, 3, 2])"
      ]
     },
     "execution_count": 6,
     "metadata": {},
     "output_type": "execute_result"
    }
   ],
   "source": [
    "M = 5\n",
    "u = compute_u(M)\n",
    "mu = 2\n",
    "PI = 0.9\n",
    "xs = god_model_sample(m=M, mu=mu, pi=PI, n_sample=5, seed=0)\n",
    "xs"
   ]
  },
  {
   "cell_type": "code",
   "execution_count": 7,
   "metadata": {},
   "outputs": [
    {
     "name": "stderr",
     "output_type": "stream",
     "text": [
      "/media/DData/Data/M2/Cours/Probabilistic graphical models/Projet/Ordinal-data-clustering/tests/god_model_estimator.py:183: RuntimeWarning: divide by zero encountered in log\n",
      "  log_likelihood += np.log(evaluate_polynomial(p=u_mu[x - 1], x=t))\n"
     ]
    },
    {
     "data": {
      "text/plain": [
       "(2, 0.9242424242424243, -3.532365366698152)"
      ]
     },
     "execution_count": 7,
     "metadata": {},
     "output_type": "execute_result"
    }
   ],
   "source": [
    "estimate_mu_pi_grid(m=M, data=xs, nb_pi=100)"
   ]
  },
  {
   "cell_type": "code",
   "execution_count": 8,
   "metadata": {},
   "outputs": [
    {
     "name": "stderr",
     "output_type": "stream",
     "text": [
      "/media/DData/Data/M2/Cours/Probabilistic graphical models/Projet/Ordinal-data-clustering/tests/god_model_estimator.py:188: RuntimeWarning: divide by zero encountered in log\n",
      "  log_likelihood += weights[i] * np.log(evaluate_polynomial(p=u_mu[x - 1], x=t))\n"
     ]
    },
    {
     "data": {
      "text/plain": [
       "(2, 0.9242424242424243, -0.7064730733396305)"
      ]
     },
     "execution_count": 8,
     "metadata": {},
     "output_type": "execute_result"
    }
   ],
   "source": [
    "estimate_mu_pi_grid(m=M, data=[2, 3], nb_pi=100, weights=[4/5, 1/5])"
   ]
  },
  {
   "cell_type": "code",
   "execution_count": 335,
   "metadata": {},
   "outputs": [
    {
     "name": "stderr",
     "output_type": "stream",
     "text": [
      "/media/DData/Data/M2/Cours/Probabilistic graphical models/Projet/Ordinal-data-clustering/tests/god_model_estimator.py:166: RuntimeWarning: divide by zero encountered in log\n",
      "  log_likelihood += np.log(evaluate_polynomial(p=u_mu[x - 1], x=t))\n"
     ]
    },
    {
     "name": "stdout",
     "output_type": "stream",
     "text": [
      "1.23 s ± 23.3 ms per loop (mean ± std. dev. of 7 runs, 1 loop each)\n"
     ]
    }
   ],
   "source": [
    "%%timeit\n",
    "estimate_mu_pi_grid(m=M, data=xs, nb_pi=1_000)"
   ]
  },
  {
   "cell_type": "code",
   "execution_count": 20,
   "metadata": {},
   "outputs": [
    {
     "name": "stderr",
     "output_type": "stream",
     "text": [
      "/media/DData/Data/M2/Cours/Probabilistic graphical models/Projet/Ordinal-data-clustering/tests/god_model_estimator.py:80: RuntimeWarning: divide by zero encountered in log\n",
      "  p += np.log(probability_distribution_x_given_pi(m, x, pi))\n"
     ]
    },
    {
     "data": {
      "text/plain": [
       "0.9240924092409242"
      ]
     },
     "execution_count": 20,
     "metadata": {},
     "output_type": "execute_result"
    }
   ],
   "source": [
    "nb_point = 10_000\n",
    "likelihoods = np.empty(nb_point)\n",
    "abscisses = np.linspace(0, 1, nb_point)\n",
    "for i, pi in enumerate(abscisses):\n",
    "    likelihoods[i] = likelihood_distribution_xs_given_pi(m=5, data=xs, pi=pi)[mu - 1]\n",
    "abscisses[likelihoods.argmax()]"
   ]
  },
  {
   "cell_type": "code",
   "execution_count": 21,
   "metadata": {},
   "outputs": [
    {
     "data": {
      "text/plain": [
       "<matplotlib.legend.Legend at 0x7f4d13297af0>"
      ]
     },
     "execution_count": 21,
     "metadata": {},
     "output_type": "execute_result"
    },
    {
     "data": {
      "image/png": "[encoded data removed]",
      "text/plain": [
       "<Figure size 640x480 with 1 Axes>"
      ]
     },
     "metadata": {},
     "output_type": "display_data"
    }
   ],
   "source": [
    "plt.plot(abscisses, likelihoods, label='P(X | pi) ')\n",
    "plt.axvline(x=PI, color='r', label='pi')\n",
    "plt.axvline(x=abscisses[likelihoods.argmax()], linestyle='--', color='r', label='argmax P(X | pi)')\n",
    "plt.xlabel('pi')\n",
    "plt.ylabel('P(X | pi)')\n",
    "plt.legend()"
   ]
  },
  {
   "cell_type": "code",
   "execution_count": 322,
   "metadata": {},
   "outputs": [
    {
     "data": {
      "text/plain": [
       "(3, 0.6541576019351939, -170.54125949158865)"
      ]
     },
     "execution_count": 322,
     "metadata": {},
     "output_type": "execute_result"
    }
   ],
   "source": [
    "mu_hat, pi_hat, ll, all_pis, all_lls = estimate_mu_pi(m=5, data=xs, pi_zero=0.7, n_iter_max=10, evolution=True)\n",
    "mu_hat, pi_hat, ll"
   ]
  },
  {
   "cell_type": "code",
   "execution_count": 325,
   "metadata": {},
   "outputs": [
    {
     "data": {
      "text/plain": [
       "[-116.47216730695854,\n",
       " -93.8656153616994,\n",
       " -90.48023425176959,\n",
       " -96.28393465495735,\n",
       " -106.63133708508208,\n",
       " -119.33045059125757,\n",
       " -133.28814801659558,\n",
       " -147.93379511540775,\n",
       " -162.9602486340026,\n",
       " -178.1990407867262,\n",
       " -193.55673042727082]"
      ]
     },
     "execution_count": 325,
     "metadata": {},
     "output_type": "execute_result"
    }
   ],
   "source": [
    "all_lls[mu - 1]"
   ]
  },
  {
   "cell_type": "code",
   "execution_count": 324,
   "metadata": {},
   "outputs": [
    {
     "data": {
      "text/plain": [
       "[0.7,\n",
       " 0.8288319296960821,\n",
       " 0.9040474240644942,\n",
       " 0.9462928239285157,\n",
       " 0.9698912654871437,\n",
       " 0.9830941061269071,\n",
       " 0.9904970626574114,\n",
       " 0.9946547111009637,\n",
       " 0.9969921372323651,\n",
       " 0.9983070461798422,\n",
       " 0.9990470075535007]"
      ]
     },
     "execution_count": 324,
     "metadata": {},
     "output_type": "execute_result"
    }
   ],
   "source": [
    "all_pis[mu - 1]"
   ]
  },
  {
   "cell_type": "code",
   "execution_count": 293,
   "metadata": {},
   "outputs": [
    {
     "data": {
      "text/plain": [
       "2"
      ]
     },
     "execution_count": 293,
     "metadata": {},
     "output_type": "execute_result"
    }
   ],
   "source": [
    "probability_distribution_xs_given_pi(M, xs, pi=0.6).argmax() + 1"
   ]
  },
  {
   "cell_type": "code",
   "execution_count": 295,
   "metadata": {},
   "outputs": [
    {
     "data": {
      "text/plain": [
       "2"
      ]
     },
     "execution_count": 295,
     "metadata": {},
     "output_type": "execute_result"
    }
   ],
   "source": [
    "likelihood_distribution_xs_given_pi(M, xs, pi=0.6).argmax() + 1"
   ]
  },
  {
   "cell_type": "code",
   "execution_count": null,
   "metadata": {},
   "outputs": [],
   "source": []
  },
  {
   "cell_type": "code",
   "execution_count": 211,
   "metadata": {},
   "outputs": [
    {
     "data": {
      "text/plain": [
       "array([0.        , 0.        , 0.83333333, 3.33333333, 3.5       ,\n",
       "       1.        ])"
      ]
     },
     "execution_count": 211,
     "metadata": {},
     "output_type": "execute_result"
    }
   ],
   "source": [
    "p = u[0, 4]\n",
    "pi = 0.5623323468237743\n"
   ]
  },
  {
   "cell_type": "code",
   "execution_count": 214,
   "metadata": {},
   "outputs": [
    {
     "data": {
      "text/plain": [
       "0.1824"
      ]
     },
     "execution_count": 214,
     "metadata": {},
     "output_type": "execute_result"
    }
   ],
   "source": [
    "probability_x_given_pi_mu_from_u(m=5, x=5, pi=pi, mu=1, u=u)"
   ]
  },
  {
   "cell_type": "code",
   "execution_count": null,
   "metadata": {},
   "outputs": [],
   "source": [
    "pi = 0.5623323468237743\n",
    "\n",
    "evaluate_polynomial()"
   ]
  },
  {
   "cell_type": "code",
   "execution_count": 202,
   "metadata": {},
   "outputs": [],
   "source": []
  },
  {
   "cell_type": "code",
   "execution_count": 203,
   "metadata": {},
   "outputs": [],
   "source": []
  },
  {
   "cell_type": "code",
   "execution_count": 205,
   "metadata": {},
   "outputs": [
    {
     "data": {
      "text/plain": [
       "array([[1.        , 3.5       , 3.33333333, 0.83333333, 0.        ,\n",
       "        0.        ],\n",
       "       [0.        , 1.        , 2.5       , 1.5       , 0.        ,\n",
       "        0.        ],\n",
       "       [0.        , 0.5       , 1.83333333, 1.83333333, 0.5       ,\n",
       "        0.        ],\n",
       "       [0.        , 0.        , 1.5       , 2.5       , 1.        ,\n",
       "        0.        ],\n",
       "       [0.        , 0.        , 0.83333333, 3.33333333, 3.5       ,\n",
       "        1.        ]])"
      ]
     },
     "execution_count": 205,
     "metadata": {},
     "output_type": "execute_result"
    }
   ],
   "source": [
    "u[0]"
   ]
  },
  {
   "cell_type": "code",
   "execution_count": 220,
   "metadata": {},
   "outputs": [
    {
     "data": {
      "text/plain": [
       "array([1, 1, 1, 1, 1, 3, 1, 1, 4, 1, 2, 1, 1, 1, 2, 1, 1, 1, 1, 1])"
      ]
     },
     "execution_count": 220,
     "metadata": {},
     "output_type": "execute_result"
    }
   ],
   "source": [
    "xs = god_model_sample(m=M, mu=1, pi=0.9, n_sample=20, seed=0)\n",
    "xs"
   ]
  },
  {
   "cell_type": "code",
   "execution_count": null,
   "metadata": {},
   "outputs": [],
   "source": []
  },
  {
   "cell_type": "code",
   "execution_count": 221,
   "metadata": {},
   "outputs": [],
   "source": [
    "for x in range(1, M + 1):\n",
    "    for pi in [0.5, 0.6, 0.7, 0.8, 0.9, 1.0]:\n",
    "        error = np.abs(probability_distribution_x_given_pi(m=5, x=x, pi=pi) - np.array([probability_x_given_pi_mu_from_u(m=M, x=x, pi=pi, mu=mu, u=u) for mu in range(M)]))\n",
    "        if error.max() > 1e-10:\n",
    "            print(f\"Error for x={x} is {error.max()}\")"
   ]
  },
  {
   "cell_type": "code",
   "execution_count": null,
   "metadata": {},
   "outputs": [],
   "source": []
  },
  {
   "cell_type": "code",
   "execution_count": null,
   "metadata": {},
   "outputs": [],
   "source": []
  },
  {
   "cell_type": "code",
   "execution_count": 283,
   "metadata": {},
   "outputs": [
    {
     "data": {
      "text/plain": [
       "(5, 0.9887969371114416, -17.029888312294442)"
      ]
     },
     "execution_count": 283,
     "metadata": {},
     "output_type": "execute_result"
    }
   ],
   "source": [
    "mu_hat, pi_hat, ll = estimate_mu_pi(m=5, data=xs, pi_zero=0.51, n_iter_max=10, evolution=False)\n",
    "mu_hat, pi_hat, ll"
   ]
  },
  {
   "cell_type": "code",
   "execution_count": 285,
   "metadata": {},
   "outputs": [
    {
     "data": {
      "text/plain": [
       "-11.794786516899228"
      ]
     },
     "execution_count": 285,
     "metadata": {},
     "output_type": "execute_result"
    }
   ],
   "source": [
    "np.log(probability_distribution_xs_given_pi(m=5, data=xs, pi=0.9922093981395159)[4])"
   ]
  },
  {
   "cell_type": "code",
   "execution_count": 239,
   "metadata": {},
   "outputs": [
    {
     "data": {
      "text/plain": [
       "[0.5, 0.51, 0.51]"
      ]
     },
     "execution_count": 239,
     "metadata": {},
     "output_type": "execute_result"
    }
   ],
   "source": [
    "all_pis[1]"
   ]
  },
  {
   "cell_type": "code",
   "execution_count": 240,
   "metadata": {},
   "outputs": [
    {
     "data": {
      "text/plain": [
       "[-130.62516534463455, -134.8258349448356, -134.8258349448356]"
      ]
     },
     "execution_count": 240,
     "metadata": {},
     "output_type": "execute_result"
    }
   ],
   "source": [
    "all_lls[0]"
   ]
  },
  {
   "cell_type": "code",
   "execution_count": null,
   "metadata": {},
   "outputs": [],
   "source": []
  },
  {
   "cell_type": "code",
   "execution_count": 64,
   "metadata": {},
   "outputs": [
    {
     "data": {
      "text/plain": [
       "array([2, 2, 2, 3, 2])"
      ]
     },
     "execution_count": 64,
     "metadata": {},
     "output_type": "execute_result"
    }
   ],
   "source": [
    "M = 5\n",
    "u = compute_u(M)\n",
    "mu = 2\n",
    "n = 5\n",
    "PI = 0.9\n",
    "xs = god_model_sample(m=M, mu=mu, pi=PI, n_sample=n, seed=0)\n",
    "xs"
   ]
  },
  {
   "cell_type": "code",
   "execution_count": 65,
   "metadata": {},
   "outputs": [
    {
     "name": "stderr",
     "output_type": "stream",
     "text": [
      "/media/DData/Data/M2/Cours/Probabilistic graphical models/Projet/Ordinal-data-clustering/tests/god_model_estimator.py:175: RuntimeWarning: divide by zero encountered in log\n",
      "  log_likelihood += np.log(evaluate_polynomial(p=u_mu[x - 1], x=t))\n"
     ]
    },
    {
     "data": {
      "text/plain": [
       "(2, 0.9242424242424243, -3.532365366698152)"
      ]
     },
     "execution_count": 65,
     "metadata": {},
     "output_type": "execute_result"
    }
   ],
   "source": [
    "estimate_mu_pi_grid(m=M, data=xs, nb_pi=100)"
   ]
  },
  {
   "cell_type": "code",
   "execution_count": 66,
   "metadata": {},
   "outputs": [],
   "source": [
    "import torch"
   ]
  },
  {
   "cell_type": "code",
   "execution_count": 124,
   "metadata": {},
   "outputs": [],
   "source": [
    "def compute_log_likelihood_torch(\n",
    "        m: int,\n",
    "        data: list[int],\n",
    "        pi: torch.Tensor,\n",
    "        u_mu: np.ndarray,\n",
    "        ) -> float:\n",
    "    \"\"\"\n",
    "    Compute the log-likelihood of the model\n",
    "\n",
    "    log P(X | mu, pi) = sum_i=1^n log(m * u(., mu, x^i)((1 - pi) / pi))\n",
    "    where u(., mu, x^i) is the polynomial of degree m with coefficients u_mu\n",
    "\n",
    "    Complexity: O(n * m)\n",
    "\n",
    "    Arguments:\n",
    "    ----------\n",
    "        m: number of categories\n",
    "        data: observed categories\n",
    "        pi: probability of error\n",
    "        u_mu: u(., mu, .) coefficients of the polynomials\n",
    "\n",
    "    Return:\n",
    "    -------\n",
    "        log_likelihood: log-likelihood of the model\n",
    "    \"\"\"\n",
    "    # version 1\n",
    "    # t = (1 - pi) / pi\n",
    "    # log_likelihood = m * len(data) * torch.tensor(torch.log(pi))\n",
    "    # for x in data:\n",
    "    #     p_t = torch.tensor(0.)\n",
    "    #     for d in range(M + 1):\n",
    "    #         p_t += u_mu[x - 1, d] * ((1 - pi) / pi) ** d\n",
    "    #     log_likelihood += torch.log(p_t)\n",
    "    \n",
    "    # version 2\n",
    "    log_likelihood = torch.tensor(0.)\n",
    "    for x in data:\n",
    "        p_t = torch.tensor(0.)\n",
    "        for d in range(M + 1):\n",
    "            p_t += u_mu[x - 1, d] * (1 - pi) ** d * pi ** (m - d)\n",
    "        log_likelihood += torch.log(p_t)\n",
    "\n",
    "    assert log_likelihood <= 0, f\"Log-likelihood should be negative, but {log_likelihood} > 0\"\n",
    "    return log_likelihood\n"
   ]
  },
  {
   "cell_type": "code",
   "execution_count": 131,
   "metadata": {},
   "outputs": [],
   "source": [
    "def optimize_log_likelihood(\n",
    "    m: int,\n",
    "    data: list[int],\n",
    "    u_mu: np.ndarray,\n",
    "    pi_zero: float = 0.5,\n",
    "    n_iter_max: int = 100,\n",
    "    epsilon: float = 1e-3,\n",
    "    ) -> tuple[float, float]:\n",
    "    \"\"\"\n",
    "    Optimize the log-likelihood of the model over pi\n",
    "\n",
    "    Arguments:\n",
    "    ----------\n",
    "        m: number of categories\n",
    "        data: observed categories\n",
    "        u_mu: u(mu, ., .) coefficients of the polynomials\n",
    "        pi_zero: initial value of pi\n",
    "        n_iter_max: maximum number of iterations\n",
    "        epsilon: convergence criterion\n",
    "    \n",
    "    Return:\n",
    "    -------\n",
    "        pi_hat: optimal value of pi\n",
    "        log_likelihood: log-likelihood of the model\n",
    "    \"\"\"\n",
    "    pi = torch.tensor(pi_zero, requires_grad=True)\n",
    "    pi_old = -1\n",
    "    optimizer = torch.optim.SGD([pi], lr=0.01)\n",
    "    for _ in range(n_iter_max):\n",
    "        optimizer.zero_grad()\n",
    "        n_log_likelihood = -compute_log_likelihood_torch(m, data, pi, u_mu)\n",
    "        n_log_likelihood.backward()\n",
    "        optimizer.step()\n",
    "        # pi = pi.clamp(0, 1)\n",
    "        print(f\"pi={pi.item()}, log_likelihood={n_log_likelihood.item()}\")\n",
    "        if abs(pi - pi_old) < epsilon:\n",
    "            break\n",
    "        pi_old = pi.item()\n",
    "    return pi.item(), -n_log_likelihood.item()\n",
    "        "
   ]
  },
  {
   "cell_type": "code",
   "execution_count": 132,
   "metadata": {},
   "outputs": [
    {
     "name": "stdout",
     "output_type": "stream",
     "text": [
      "pi=0.7354285717010498, log_likelihood=9.350482940673828\n",
      "pi=0.8675906658172607, log_likelihood=5.1036834716796875\n",
      "pi=0.9335877895355225, log_likelihood=3.747215986251831\n",
      "pi=0.9131246209144592, log_likelihood=3.541717767715454\n",
      "pi=0.931506872177124, log_likelihood=3.542807102203369\n",
      "pi=0.9159558415412903, log_likelihood=3.537976026535034\n",
      "pi=0.929984986782074, log_likelihood=3.538212537765503\n",
      "pi=0.9178550839424133, log_likelihood=3.5358707904815674\n",
      "pi=0.9288157224655151, log_likelihood=3.5358378887176514\n",
      "pi=0.9192226529121399, log_likelihood=3.534601926803589\n",
      "pi=0.9278944134712219, log_likelihood=3.534494400024414\n",
      "pi=0.920246958732605, log_likelihood=3.5338079929351807\n",
      "pi=0.9271584749221802, log_likelihood=3.533695697784424\n",
      "pi=0.9210326671600342, log_likelihood=3.53330135345459\n",
      "pi=0.9265662431716919, log_likelihood=3.533207416534424\n",
      "pi=0.9216446876525879, log_likelihood=3.5329742431640625\n",
      "pi=0.9260877370834351, log_likelihood=3.5329017639160156\n",
      "pi=0.9221263527870178, log_likelihood=3.532762050628662\n",
      "pi=0.9257002472877502, log_likelihood=3.5327086448669434\n",
      "pi=0.9225080609321594, log_likelihood=3.532623291015625\n",
      "pi=0.9253863096237183, log_likelihood=3.532585382461548\n",
      "pi=0.9228120446205139, log_likelihood=3.5325324535369873\n",
      "pi=0.9251318573951721, log_likelihood=3.5325067043304443\n",
      "pi=0.9230549335479736, log_likelihood=3.532473564147949\n",
      "pi=0.924925684928894, log_likelihood=3.5324559211730957\n",
      "pi=0.9232494831085205, log_likelihood=3.532435178756714\n",
      "pi=0.9247586727142334, log_likelihood=3.5324225425720215\n",
      "pi=0.923405647277832, log_likelihood=3.53240966796875\n",
      "pi=0.9246233701705933, log_likelihood=3.5324015617370605\n",
      "pi=0.923531174659729, log_likelihood=3.532392978668213\n",
      "pi=0.9245138764381409, log_likelihood=3.5323874950408936\n"
     ]
    },
    {
     "data": {
      "text/plain": [
       "(0.9245138764381409, -3.5323874950408936)"
      ]
     },
     "execution_count": 132,
     "metadata": {},
     "output_type": "execute_result"
    }
   ],
   "source": [
    "optimize_log_likelihood(m=M, data=xs, u_mu=u[mu - 1])"
   ]
  },
  {
   "cell_type": "code",
   "execution_count": 59,
   "metadata": {},
   "outputs": [
    {
     "name": "stderr",
     "output_type": "stream",
     "text": [
      "/tmp/ipykernel_26408/1921751138.py:29: UserWarning: To copy construct from a tensor, it is recommended to use sourceTensor.clone().detach() or sourceTensor.clone().detach().requires_grad_(True), rather than torch.tensor(sourceTensor).\n",
      "  log_likelihood = m * len(data) * torch.tensor(torch.log(pi))\n"
     ]
    },
    {
     "data": {
      "text/plain": [
       "tensor(-3.5788)"
      ]
     },
     "execution_count": 59,
     "metadata": {},
     "output_type": "execute_result"
    }
   ],
   "source": [
    "compute_log_likelihood_torch(m=5, data=xs, pi=torch.tensor(0.9), u_mu=u[1])"
   ]
  },
  {
   "cell_type": "code",
   "execution_count": 110,
   "metadata": {},
   "outputs": [],
   "source": [
    "def ll(p):\n",
    "    # log_likelihood = torch.tensor(M * n * torch.log(p))\n",
    "    log_likelihood = torch.tensor(0.)\n",
    "\n",
    "    for obs in xs:\n",
    "        s = torch.tensor(0.)\n",
    "        for d in range(M + 1):\n",
    "            s += u[mu - 1, obs - 1, d] * (1 - p) ** d * p ** (M - d)\n",
    "        log_likelihood += torch.log(s)\n",
    "    return log_likelihood"
   ]
  },
  {
   "cell_type": "code",
   "execution_count": 111,
   "metadata": {},
   "outputs": [
    {
     "name": "stdout",
     "output_type": "stream",
     "text": [
      "tensor(0.5000, requires_grad=True)\n",
      "p=0.7354285717010498, loss=9.350482940673828\n",
      "tensor(0.7354, requires_grad=True)\n",
      "p=0.8675906658172607, loss=5.1036834716796875\n",
      "tensor(0.8676, requires_grad=True)\n",
      "p=0.9335877895355225, loss=3.747215986251831\n",
      "tensor(0.9336, requires_grad=True)\n",
      "p=0.9131246209144592, loss=3.541717767715454\n",
      "tensor(0.9131, requires_grad=True)\n",
      "p=0.931506872177124, loss=3.542807102203369\n",
      "tensor(0.9315, requires_grad=True)\n",
      "p=0.9159558415412903, loss=3.537976026535034\n",
      "tensor(0.9160, requires_grad=True)\n",
      "p=0.929984986782074, loss=3.538212537765503\n",
      "tensor(0.9300, requires_grad=True)\n",
      "p=0.9178550839424133, loss=3.5358707904815674\n",
      "tensor(0.9179, requires_grad=True)\n",
      "p=0.9288157224655151, loss=3.5358378887176514\n",
      "tensor(0.9288, requires_grad=True)\n",
      "p=0.9192226529121399, loss=3.534601926803589\n",
      "tensor(0.9192, requires_grad=True)\n",
      "p=0.9278944134712219, loss=3.534494400024414\n",
      "tensor(0.9279, requires_grad=True)\n",
      "p=0.920246958732605, loss=3.5338079929351807\n",
      "tensor(0.9202, requires_grad=True)\n",
      "p=0.9271584749221802, loss=3.533695697784424\n",
      "tensor(0.9272, requires_grad=True)\n",
      "p=0.9210326671600342, loss=3.53330135345459\n",
      "tensor(0.9210, requires_grad=True)\n",
      "p=0.9265662431716919, loss=3.533207416534424\n",
      "tensor(0.9266, requires_grad=True)\n",
      "p=0.9216446876525879, loss=3.5329742431640625\n",
      "tensor(0.9216, requires_grad=True)\n",
      "p=0.9260877370834351, loss=3.5329017639160156\n",
      "tensor(0.9261, requires_grad=True)\n",
      "p=0.9221263527870178, loss=3.532762050628662\n",
      "tensor(0.9221, requires_grad=True)\n",
      "p=0.9257002472877502, loss=3.5327086448669434\n",
      "tensor(0.9257, requires_grad=True)\n",
      "p=0.9225080609321594, loss=3.532623291015625\n",
      "tensor(0.9225, requires_grad=True)\n",
      "p=0.9253863096237183, loss=3.532585382461548\n",
      "tensor(0.9254, requires_grad=True)\n",
      "p=0.9228120446205139, loss=3.5325324535369873\n",
      "tensor(0.9228, requires_grad=True)\n",
      "p=0.9251318573951721, loss=3.5325067043304443\n",
      "tensor(0.9251, requires_grad=True)\n",
      "p=0.9230549335479736, loss=3.532473564147949\n",
      "tensor(0.9231, requires_grad=True)\n",
      "p=0.924925684928894, loss=3.5324559211730957\n",
      "tensor(0.9249, requires_grad=True)\n",
      "p=0.9232494831085205, loss=3.532435178756714\n",
      "tensor(0.9232, requires_grad=True)\n",
      "p=0.9247586727142334, loss=3.5324225425720215\n",
      "tensor(0.9248, requires_grad=True)\n",
      "p=0.923405647277832, loss=3.53240966796875\n",
      "tensor(0.9234, requires_grad=True)\n",
      "p=0.9246233701705933, loss=3.5324015617370605\n",
      "tensor(0.9246, requires_grad=True)\n",
      "p=0.923531174659729, loss=3.532392978668213\n",
      "tensor(0.9235, requires_grad=True)\n"
     ]
    }
   ],
   "source": [
    "p = torch.tensor(0.5, requires_grad=True)\n",
    "p_old = -1\n",
    "optimizer = torch.optim.SGD([p], lr=0.01)\n",
    "for i in range(1000):\n",
    "    optimizer.zero_grad()\n",
    "    print(p)\n",
    "    loss = -ll(p)\n",
    "    loss.backward()\n",
    "    optimizer.step()\n",
    "    if abs(p.item() - p_old) < 1e-3:\n",
    "        break\n",
    "    p_old = p.item()\n",
    "    print(f\"p={p.item()}, loss={loss.item()}\")"
   ]
  },
  {
   "cell_type": "code",
   "execution_count": null,
   "metadata": {},
   "outputs": [],
   "source": []
  },
  {
   "cell_type": "code",
   "execution_count": 9,
   "metadata": {},
   "outputs": [
    {
     "data": {
      "text/plain": [
       "Expression(UNKNOWN, UNKNOWN, ())"
      ]
     },
     "execution_count": 9,
     "metadata": {},
     "output_type": "execute_result"
    }
   ],
   "source": [
    "pi = cp.Variable()\n",
    "log_likelihood = 0\n",
    "\n",
    "for obs in xs:\n",
    "    s = 0\n",
    "    for d in range(M + 1):\n",
    "        s += u[mu - 1, obs - 1, d] * (1 - pi)**d * pi**(M - d)\n",
    "    log_likelihood += cp.log(s)\n",
    "log_likelihood"
   ]
  },
  {
   "cell_type": "code",
   "execution_count": 17,
   "metadata": {},
   "outputs": [
    {
     "data": {
      "text/plain": [
       "Expression(UNKNOWN, UNKNOWN, ())"
      ]
     },
     "execution_count": 17,
     "metadata": {},
     "output_type": "execute_result"
    }
   ],
   "source": [
    "pi = cp.Variable()\n",
    "log_likelihood = 0\n",
    "\n",
    "for obs in xs:\n",
    "    s = 0\n",
    "    for d in range(1, M):\n",
    "        s += u[mu - 1, obs - 1, d] * (1 - pi)**d * pi**(M - d)\n",
    "    s += u[mu - 1, obs - 1, 0] * pi**M + u[mu - 1, obs - 1, M] * (1 - pi)**M\n",
    "    log_likelihood += cp.log(s)\n",
    "log_likelihood"
   ]
  },
  {
   "cell_type": "code",
   "execution_count": 18,
   "metadata": {},
   "outputs": [
    {
     "data": {
      "text/plain": [
       "{Variable((), var472): None}"
      ]
     },
     "execution_count": 18,
     "metadata": {},
     "output_type": "execute_result"
    }
   ],
   "source": [
    "log_likelihood.grad"
   ]
  },
  {
   "cell_type": "code",
   "execution_count": 19,
   "metadata": {},
   "outputs": [
    {
     "ename": "DGPError",
     "evalue": "Problem does not follow DGP rules.The objective is not DGP. Its following subexpressions are not:\nvar472 <-- needs to be declared positive\nvar472 <-- needs to be declared positive\nvar472 <-- needs to be declared positive\nvar472 <-- needs to be declared positive\n0.0\nvar472 <-- needs to be declared positive\nvar472 <-- needs to be declared positive\n0.0\nvar472 <-- needs to be declared positive\nvar472 <-- needs to be declared positive\nvar472 <-- needs to be declared positive\n0.0\nvar472 <-- needs to be declared positive\nvar472 <-- needs to be declared positive\nvar472 <-- needs to be declared positive\nvar472 <-- needs to be declared positive\nvar472 <-- needs to be declared positive\n0.0\nvar472 <-- needs to be declared positive\nvar472 <-- needs to be declared positive\n0.0\nvar472 <-- needs to be declared positive\nvar472 <-- needs to be declared positive\nvar472 <-- needs to be declared positive\n0.0\nvar472 <-- needs to be declared positive\nvar472 <-- needs to be declared positive\nvar472 <-- needs to be declared positive\nvar472 <-- needs to be declared positive\nvar472 <-- needs to be declared positive\n0.0\nvar472 <-- needs to be declared positive\nvar472 <-- needs to be declared positive\n0.0\nvar472 <-- needs to be declared positive\nvar472 <-- needs to be declared positive\nvar472 <-- needs to be declared positive\n0.0\nvar472 <-- needs to be declared positive\nvar472 <-- needs to be declared positive\nvar472 <-- needs to be declared positive\nvar472 <-- needs to be declared positive\nvar472 <-- needs to be declared positive\nvar472 <-- needs to be declared positive\nvar472 <-- needs to be declared positive\nvar472 <-- needs to be declared positive\nvar472 <-- needs to be declared positive\n0.0\nvar472 <-- needs to be declared positive\n0.0\nvar472 <-- needs to be declared positive\nvar472 <-- needs to be declared positive\nvar472 <-- needs to be declared positive\nvar472 <-- needs to be declared positive\nvar472 <-- needs to be declared positive\n0.0\nvar472 <-- needs to be declared positive\nvar472 <-- needs to be declared positive\n0.0\nvar472 <-- needs to be declared positive\nvar472 <-- needs to be declared positive\nvar472 <-- needs to be declared positive\n0.0\nvar472 <-- needs to be declared positive",
     "output_type": "error",
     "traceback": [
      "\u001b[0;31m---------------------------------------------------------------------------\u001b[0m",
      "\u001b[0;31mDGPError\u001b[0m                                  Traceback (most recent call last)",
      "Cell \u001b[0;32mIn [19], line 4\u001b[0m\n\u001b[1;32m      2\u001b[0m constraints \u001b[38;5;241m=\u001b[39m [\u001b[38;5;241m0\u001b[39m \u001b[38;5;241m<\u001b[39m\u001b[38;5;241m=\u001b[39m pi, pi \u001b[38;5;241m<\u001b[39m\u001b[38;5;241m=\u001b[39m \u001b[38;5;241m1\u001b[39m]\n\u001b[1;32m      3\u001b[0m prob \u001b[38;5;241m=\u001b[39m cp\u001b[38;5;241m.\u001b[39mProblem(objective, constraints)\n\u001b[0;32m----> 4\u001b[0m result \u001b[38;5;241m=\u001b[39m \u001b[43mprob\u001b[49m\u001b[38;5;241;43m.\u001b[39;49m\u001b[43msolve\u001b[49m\u001b[43m(\u001b[49m\u001b[43mgp\u001b[49m\u001b[38;5;241;43m=\u001b[39;49m\u001b[38;5;28;43;01mTrue\u001b[39;49;00m\u001b[43m)\u001b[49m\n",
      "File \u001b[0;32m~/anaconda3/envs/ENV_3_9_15/lib/python3.9/site-packages/cvxpy/problems/problem.py:503\u001b[0m, in \u001b[0;36mProblem.solve\u001b[0;34m(self, *args, **kwargs)\u001b[0m\n\u001b[1;32m    501\u001b[0m \u001b[38;5;28;01melse\u001b[39;00m:\n\u001b[1;32m    502\u001b[0m     solve_func \u001b[38;5;241m=\u001b[39m Problem\u001b[38;5;241m.\u001b[39m_solve\n\u001b[0;32m--> 503\u001b[0m \u001b[38;5;28;01mreturn\u001b[39;00m \u001b[43msolve_func\u001b[49m\u001b[43m(\u001b[49m\u001b[38;5;28;43mself\u001b[39;49m\u001b[43m,\u001b[49m\u001b[43m \u001b[49m\u001b[38;5;241;43m*\u001b[39;49m\u001b[43margs\u001b[49m\u001b[43m,\u001b[49m\u001b[43m \u001b[49m\u001b[38;5;241;43m*\u001b[39;49m\u001b[38;5;241;43m*\u001b[39;49m\u001b[43mkwargs\u001b[49m\u001b[43m)\u001b[49m\n",
      "File \u001b[0;32m~/anaconda3/envs/ENV_3_9_15/lib/python3.9/site-packages/cvxpy/problems/problem.py:1072\u001b[0m, in \u001b[0;36mProblem._solve\u001b[0;34m(self, solver, warm_start, verbose, gp, qcp, requires_grad, enforce_dpp, ignore_dpp, canon_backend, **kwargs)\u001b[0m\n\u001b[1;32m   1069\u001b[0m         \u001b[38;5;28mself\u001b[39m\u001b[38;5;241m.\u001b[39munpack(chain\u001b[38;5;241m.\u001b[39mretrieve(soln))\n\u001b[1;32m   1070\u001b[0m         \u001b[38;5;28;01mreturn\u001b[39;00m \u001b[38;5;28mself\u001b[39m\u001b[38;5;241m.\u001b[39mvalue\n\u001b[0;32m-> 1072\u001b[0m data, solving_chain, inverse_data \u001b[38;5;241m=\u001b[39m \u001b[38;5;28;43mself\u001b[39;49m\u001b[38;5;241;43m.\u001b[39;49m\u001b[43mget_problem_data\u001b[49m\u001b[43m(\u001b[49m\n\u001b[1;32m   1073\u001b[0m \u001b[43m    \u001b[49m\u001b[43msolver\u001b[49m\u001b[43m,\u001b[49m\u001b[43m \u001b[49m\u001b[43mgp\u001b[49m\u001b[43m,\u001b[49m\u001b[43m \u001b[49m\u001b[43menforce_dpp\u001b[49m\u001b[43m,\u001b[49m\u001b[43m \u001b[49m\u001b[43mignore_dpp\u001b[49m\u001b[43m,\u001b[49m\u001b[43m \u001b[49m\u001b[43mverbose\u001b[49m\u001b[43m,\u001b[49m\u001b[43m \u001b[49m\u001b[43mcanon_backend\u001b[49m\u001b[43m,\u001b[49m\u001b[43m \u001b[49m\u001b[43mkwargs\u001b[49m\n\u001b[1;32m   1074\u001b[0m \u001b[43m\u001b[49m\u001b[43m)\u001b[49m\n\u001b[1;32m   1076\u001b[0m \u001b[38;5;28;01mif\u001b[39;00m verbose:\n\u001b[1;32m   1077\u001b[0m     \u001b[38;5;28mprint\u001b[39m(_NUM_SOLVER_STR)\n",
      "File \u001b[0;32m~/anaconda3/envs/ENV_3_9_15/lib/python3.9/site-packages/cvxpy/problems/problem.py:646\u001b[0m, in \u001b[0;36mProblem.get_problem_data\u001b[0;34m(self, solver, gp, enforce_dpp, ignore_dpp, verbose, canon_backend, solver_opts)\u001b[0m\n\u001b[1;32m    644\u001b[0m \u001b[38;5;28;01mif\u001b[39;00m key \u001b[38;5;241m!=\u001b[39m \u001b[38;5;28mself\u001b[39m\u001b[38;5;241m.\u001b[39m_cache\u001b[38;5;241m.\u001b[39mkey:\n\u001b[1;32m    645\u001b[0m     \u001b[38;5;28mself\u001b[39m\u001b[38;5;241m.\u001b[39m_cache\u001b[38;5;241m.\u001b[39minvalidate()\n\u001b[0;32m--> 646\u001b[0m     solving_chain \u001b[38;5;241m=\u001b[39m \u001b[38;5;28;43mself\u001b[39;49m\u001b[38;5;241;43m.\u001b[39;49m\u001b[43m_construct_chain\u001b[49m\u001b[43m(\u001b[49m\n\u001b[1;32m    647\u001b[0m \u001b[43m        \u001b[49m\u001b[43msolver\u001b[49m\u001b[38;5;241;43m=\u001b[39;49m\u001b[43msolver\u001b[49m\u001b[43m,\u001b[49m\u001b[43m \u001b[49m\u001b[43mgp\u001b[49m\u001b[38;5;241;43m=\u001b[39;49m\u001b[43mgp\u001b[49m\u001b[43m,\u001b[49m\n\u001b[1;32m    648\u001b[0m \u001b[43m        \u001b[49m\u001b[43menforce_dpp\u001b[49m\u001b[38;5;241;43m=\u001b[39;49m\u001b[43menforce_dpp\u001b[49m\u001b[43m,\u001b[49m\n\u001b[1;32m    649\u001b[0m \u001b[43m        \u001b[49m\u001b[43mignore_dpp\u001b[49m\u001b[38;5;241;43m=\u001b[39;49m\u001b[43mignore_dpp\u001b[49m\u001b[43m,\u001b[49m\n\u001b[1;32m    650\u001b[0m \u001b[43m        \u001b[49m\u001b[43mcanon_backend\u001b[49m\u001b[38;5;241;43m=\u001b[39;49m\u001b[43mcanon_backend\u001b[49m\u001b[43m,\u001b[49m\n\u001b[1;32m    651\u001b[0m \u001b[43m        \u001b[49m\u001b[43msolver_opts\u001b[49m\u001b[38;5;241;43m=\u001b[39;49m\u001b[43msolver_opts\u001b[49m\u001b[43m)\u001b[49m\n\u001b[1;32m    652\u001b[0m     \u001b[38;5;28mself\u001b[39m\u001b[38;5;241m.\u001b[39m_cache\u001b[38;5;241m.\u001b[39mkey \u001b[38;5;241m=\u001b[39m key\n\u001b[1;32m    653\u001b[0m     \u001b[38;5;28mself\u001b[39m\u001b[38;5;241m.\u001b[39m_cache\u001b[38;5;241m.\u001b[39msolving_chain \u001b[38;5;241m=\u001b[39m solving_chain\n",
      "File \u001b[0;32m~/anaconda3/envs/ENV_3_9_15/lib/python3.9/site-packages/cvxpy/problems/problem.py:898\u001b[0m, in \u001b[0;36mProblem._construct_chain\u001b[0;34m(self, solver, gp, enforce_dpp, ignore_dpp, canon_backend, solver_opts)\u001b[0m\n\u001b[1;32m    896\u001b[0m candidate_solvers \u001b[38;5;241m=\u001b[39m \u001b[38;5;28mself\u001b[39m\u001b[38;5;241m.\u001b[39m_find_candidate_solvers(solver\u001b[38;5;241m=\u001b[39msolver, gp\u001b[38;5;241m=\u001b[39mgp)\n\u001b[1;32m    897\u001b[0m \u001b[38;5;28mself\u001b[39m\u001b[38;5;241m.\u001b[39m_sort_candidate_solvers(candidate_solvers)\n\u001b[0;32m--> 898\u001b[0m \u001b[38;5;28;01mreturn\u001b[39;00m \u001b[43mconstruct_solving_chain\u001b[49m\u001b[43m(\u001b[49m\u001b[38;5;28;43mself\u001b[39;49m\u001b[43m,\u001b[49m\u001b[43m \u001b[49m\u001b[43mcandidate_solvers\u001b[49m\u001b[43m,\u001b[49m\u001b[43m \u001b[49m\u001b[43mgp\u001b[49m\u001b[38;5;241;43m=\u001b[39;49m\u001b[43mgp\u001b[49m\u001b[43m,\u001b[49m\n\u001b[1;32m    899\u001b[0m \u001b[43m                               \u001b[49m\u001b[43menforce_dpp\u001b[49m\u001b[38;5;241;43m=\u001b[39;49m\u001b[43menforce_dpp\u001b[49m\u001b[43m,\u001b[49m\n\u001b[1;32m    900\u001b[0m \u001b[43m                               \u001b[49m\u001b[43mignore_dpp\u001b[49m\u001b[38;5;241;43m=\u001b[39;49m\u001b[43mignore_dpp\u001b[49m\u001b[43m,\u001b[49m\n\u001b[1;32m    901\u001b[0m \u001b[43m                               \u001b[49m\u001b[43mcanon_backend\u001b[49m\u001b[38;5;241;43m=\u001b[39;49m\u001b[43mcanon_backend\u001b[49m\u001b[43m,\u001b[49m\n\u001b[1;32m    902\u001b[0m \u001b[43m                               \u001b[49m\u001b[43msolver_opts\u001b[49m\u001b[38;5;241;43m=\u001b[39;49m\u001b[43msolver_opts\u001b[49m\u001b[43m,\u001b[49m\n\u001b[1;32m    903\u001b[0m \u001b[43m                               \u001b[49m\u001b[43mspecified_solver\u001b[49m\u001b[38;5;241;43m=\u001b[39;49m\u001b[43msolver\u001b[49m\u001b[43m)\u001b[49m\n",
      "File \u001b[0;32m~/anaconda3/envs/ENV_3_9_15/lib/python3.9/site-packages/cvxpy/reductions/solvers/solving_chain.py:217\u001b[0m, in \u001b[0;36mconstruct_solving_chain\u001b[0;34m(problem, candidates, gp, enforce_dpp, ignore_dpp, canon_backend, solver_opts, specified_solver)\u001b[0m\n\u001b[1;32m    215\u001b[0m \u001b[38;5;28;01mif\u001b[39;00m \u001b[38;5;28mlen\u001b[39m(problem\u001b[38;5;241m.\u001b[39mvariables()) \u001b[38;5;241m==\u001b[39m \u001b[38;5;241m0\u001b[39m:\n\u001b[1;32m    216\u001b[0m     \u001b[38;5;28;01mreturn\u001b[39;00m SolvingChain(reductions\u001b[38;5;241m=\u001b[39m[ConstantSolver()])\n\u001b[0;32m--> 217\u001b[0m reductions \u001b[38;5;241m=\u001b[39m \u001b[43m_reductions_for_problem_class\u001b[49m\u001b[43m(\u001b[49m\u001b[43mproblem\u001b[49m\u001b[43m,\u001b[49m\u001b[43m \u001b[49m\u001b[43mcandidates\u001b[49m\u001b[43m,\u001b[49m\u001b[43m \u001b[49m\u001b[43mgp\u001b[49m\u001b[43m,\u001b[49m\u001b[43m \u001b[49m\u001b[43msolver_opts\u001b[49m\u001b[43m)\u001b[49m\n\u001b[1;32m    219\u001b[0m \u001b[38;5;66;03m# Process DPP status of the problem.\u001b[39;00m\n\u001b[1;32m    220\u001b[0m dpp_context \u001b[38;5;241m=\u001b[39m \u001b[38;5;124m'\u001b[39m\u001b[38;5;124mdcp\u001b[39m\u001b[38;5;124m'\u001b[39m \u001b[38;5;28;01mif\u001b[39;00m \u001b[38;5;129;01mnot\u001b[39;00m gp \u001b[38;5;28;01melse\u001b[39;00m \u001b[38;5;124m'\u001b[39m\u001b[38;5;124mdgp\u001b[39m\u001b[38;5;124m'\u001b[39m\n",
      "File \u001b[0;32m~/anaconda3/envs/ENV_3_9_15/lib/python3.9/site-packages/cvxpy/reductions/solvers/solving_chain.py:142\u001b[0m, in \u001b[0;36m_reductions_for_problem_class\u001b[0;34m(problem, candidates, gp, solver_opts)\u001b[0m\n\u001b[1;32m    139\u001b[0m     \u001b[38;5;28;01melif\u001b[39;00m problem\u001b[38;5;241m.\u001b[39mis_dqcp():\n\u001b[1;32m    140\u001b[0m         append \u001b[38;5;241m+\u001b[39m\u001b[38;5;241m=\u001b[39m (\u001b[38;5;124m\"\u001b[39m\u001b[38;5;130;01m\\n\u001b[39;00m\u001b[38;5;124mHowever, the problem does follow DQCP rules. \u001b[39m\u001b[38;5;124m\"\u001b[39m\n\u001b[1;32m    141\u001b[0m                    \u001b[38;5;124m\"\u001b[39m\u001b[38;5;124mConsider calling solve() with `qcp=True`.\u001b[39m\u001b[38;5;124m\"\u001b[39m)\n\u001b[0;32m--> 142\u001b[0m     \u001b[38;5;28;01mraise\u001b[39;00m DGPError(\u001b[38;5;124m\"\u001b[39m\u001b[38;5;124mProblem does not follow DGP rules.\u001b[39m\u001b[38;5;124m\"\u001b[39m \u001b[38;5;241m+\u001b[39m append)\n\u001b[1;32m    144\u001b[0m \u001b[38;5;66;03m# Dcp2Cone and Qp2SymbolicQp require problems to minimize their objectives.\u001b[39;00m\n\u001b[1;32m    145\u001b[0m \u001b[38;5;28;01mif\u001b[39;00m \u001b[38;5;28mtype\u001b[39m(problem\u001b[38;5;241m.\u001b[39mobjective) \u001b[38;5;241m==\u001b[39m Maximize:\n",
      "\u001b[0;31mDGPError\u001b[0m: Problem does not follow DGP rules.The objective is not DGP. Its following subexpressions are not:\nvar472 <-- needs to be declared positive\nvar472 <-- needs to be declared positive\nvar472 <-- needs to be declared positive\nvar472 <-- needs to be declared positive\n0.0\nvar472 <-- needs to be declared positive\nvar472 <-- needs to be declared positive\n0.0\nvar472 <-- needs to be declared positive\nvar472 <-- needs to be declared positive\nvar472 <-- needs to be declared positive\n0.0\nvar472 <-- needs to be declared positive\nvar472 <-- needs to be declared positive\nvar472 <-- needs to be declared positive\nvar472 <-- needs to be declared positive\nvar472 <-- needs to be declared positive\n0.0\nvar472 <-- needs to be declared positive\nvar472 <-- needs to be declared positive\n0.0\nvar472 <-- needs to be declared positive\nvar472 <-- needs to be declared positive\nvar472 <-- needs to be declared positive\n0.0\nvar472 <-- needs to be declared positive\nvar472 <-- needs to be declared positive\nvar472 <-- needs to be declared positive\nvar472 <-- needs to be declared positive\nvar472 <-- needs to be declared positive\n0.0\nvar472 <-- needs to be declared positive\nvar472 <-- needs to be declared positive\n0.0\nvar472 <-- needs to be declared positive\nvar472 <-- needs to be declared positive\nvar472 <-- needs to be declared positive\n0.0\nvar472 <-- needs to be declared positive\nvar472 <-- needs to be declared positive\nvar472 <-- needs to be declared positive\nvar472 <-- needs to be declared positive\nvar472 <-- needs to be declared positive\nvar472 <-- needs to be declared positive\nvar472 <-- needs to be declared positive\nvar472 <-- needs to be declared positive\nvar472 <-- needs to be declared positive\n0.0\nvar472 <-- needs to be declared positive\n0.0\nvar472 <-- needs to be declared positive\nvar472 <-- needs to be declared positive\nvar472 <-- needs to be declared positive\nvar472 <-- needs to be declared positive\nvar472 <-- needs to be declared positive\n0.0\nvar472 <-- needs to be declared positive\nvar472 <-- needs to be declared positive\n0.0\nvar472 <-- needs to be declared positive\nvar472 <-- needs to be declared positive\nvar472 <-- needs to be declared positive\n0.0\nvar472 <-- needs to be declared positive"
     ]
    }
   ],
   "source": [
    "objective = cp.Maximize(log_likelihood)\n",
    "constraints = [0 <= pi, pi <= 1]\n",
    "prob = cp.Problem(objective, constraints)\n",
    "result = prob.solve(gp=True)"
   ]
  },
  {
   "cell_type": "code",
   "execution_count": 17,
   "metadata": {},
   "outputs": [
    {
     "ename": "NameError",
     "evalue": "name 'result' is not defined",
     "output_type": "error",
     "traceback": [
      "\u001b[0;31m---------------------------------------------------------------------------\u001b[0m",
      "\u001b[0;31mNameError\u001b[0m                                 Traceback (most recent call last)",
      "Cell \u001b[0;32mIn [17], line 1\u001b[0m\n\u001b[0;32m----> 1\u001b[0m \u001b[43mresult\u001b[49m\n",
      "\u001b[0;31mNameError\u001b[0m: name 'result' is not defined"
     ]
    }
   ],
   "source": [
    "result"
   ]
  },
  {
   "cell_type": "code",
   "execution_count": null,
   "metadata": {},
   "outputs": [],
   "source": []
  }
 ],
 "metadata": {
  "kernelspec": {
   "display_name": "ENV_3_9_15",
   "language": "python",
   "name": "python3"
  },
  "language_info": {
   "codemirror_mode": {
    "name": "ipython",
    "version": 3
   },
   "file_extension": ".py",
   "mimetype": "text/x-python",
   "name": "python",
   "nbconvert_exporter": "python",
   "pygments_lexer": "ipython3",
   "version": "3.9.15"
  }
 },
 "nbformat": 4,
 "nbformat_minor": 2
}
