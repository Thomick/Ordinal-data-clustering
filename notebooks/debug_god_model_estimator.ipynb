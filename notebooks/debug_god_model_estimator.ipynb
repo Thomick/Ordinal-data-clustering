{
 "cells": [
  {
   "cell_type": "code",
   "execution_count": 1,
   "metadata": {},
   "outputs": [],
   "source": [
    "%load_ext autoreload\n",
    "%autoreload 2"
   ]
  },
  {
   "cell_type": "code",
   "execution_count": 2,
   "metadata": {},
   "outputs": [],
   "source": [
    "import sys\n",
    "try:\n",
    "    if path:\n",
    "        raise Exception('changed')\n",
    "except:\n",
    "    path = True\n",
    "    sys.path.append('../')\n",
    "\n",
    "from math import log, ceil\n",
    "from tqdm.notebook import tqdm\n",
    "from src.god_model_generator import god_model_sample\n",
    "from src.god_model_estimator import estimate_mu_pi\n",
    "from src.bos_model_estimator import univariate_em, observation_likelihood, _probability_x_given_mu_pi, estimate_mu_pi as estimate_mu_pi_bos, probability_x_given_mu_pi_scratch as aux_probability_x_given_mu_pi, compute_polynomials\n",
    "from src.data_generator import bos_model\n",
    "from src.compute_u import compute_u\n",
    "from model_tools import evaluate_polynomial, group_sum\n",
    "import numpy as np\n",
    "import matplotlib.pyplot as plt\n",
    "import cvxpy as cp\n",
    "from scipy.interpolate import lagrange\n",
    "from time import perf_counter"
   ]
  },
  {
   "cell_type": "code",
   "execution_count": 3,
   "metadata": {},
   "outputs": [],
   "source": [
    "from src.bos_model_polynomials import compute_polynomials as compute_polynomials_v2, compute_polynomials_v3, compute_polynomials_v4"
   ]
  },
  {
   "cell_type": "code",
   "execution_count": 4,
   "metadata": {},
   "outputs": [],
   "source": [
    "_ = compute_polynomials_v2(5), compute_polynomials_v3(5), compute_polynomials_v4(5)"
   ]
  },
  {
   "cell_type": "code",
   "execution_count": 5,
   "metadata": {},
   "outputs": [
    {
     "name": "stdout",
     "output_type": "stream",
     "text": [
      "3.78 ms ± 142 µs per loop (mean ± std. dev. of 7 runs, 100 loops each)\n"
     ]
    }
   ],
   "source": [
    "%%timeit\n",
    "_ = compute_polynomials_v2(10)"
   ]
  },
  {
   "cell_type": "code",
   "execution_count": 6,
   "metadata": {},
   "outputs": [
    {
     "name": "stdout",
     "output_type": "stream",
     "text": [
      "5.95 ms ± 57.1 µs per loop (mean ± std. dev. of 7 runs, 100 loops each)\n"
     ]
    }
   ],
   "source": [
    "%%timeit\n",
    "_ = compute_polynomials_v3(10)"
   ]
  },
  {
   "cell_type": "code",
   "execution_count": 8,
   "metadata": {},
   "outputs": [
    {
     "name": "stdout",
     "output_type": "stream",
     "text": [
      "5.34 s ± 190 ms per loop (mean ± std. dev. of 7 runs, 1 loop each)\n"
     ]
    }
   ],
   "source": [
    "%%timeit\n",
    "_ = compute_polynomials_v4(100)"
   ]
  },
  {
   "cell_type": "code",
   "execution_count": 15,
   "metadata": {},
   "outputs": [],
   "source": [
    "def benchmark_f(f, m_max: int, sample: int=10):\n",
    "    times = []\n",
    "    for m in tqdm(range(m_max, 0, -1)):\n",
    "        t = perf_counter()\n",
    "        for _ in range(sample):\n",
    "            _ = f(m)\n",
    "        times.append((perf_counter() - t) / sample)\n",
    "    times.reverse()\n",
    "    return times"
   ]
  },
  {
   "cell_type": "code",
   "execution_count": 94,
   "metadata": {},
   "outputs": [
    {
     "name": "stdout",
     "output_type": "stream",
     "text": [
      "predicted time: 141.61 seconds, 2.36 minutes\n",
      "total predicted time: 832.98 seconds, 13.88 minutes\n"
     ]
    },
    {
     "data": {
      "application/vnd.jupyter.widget-view+json": {
       "model_id": "7f7535d83007458eb5bf51eaf4b697be",
       "version_major": 2,
       "version_minor": 0
      },
      "text/plain": [
       "  0%|          | 0/25 [00:00<?, ?it/s]"
      ]
     },
     "metadata": {},
     "output_type": "display_data"
    },
    {
     "name": "stdout",
     "output_type": "stream",
     "text": [
      " 30.31 seconds\n"
     ]
    }
   ],
   "source": [
    "m_max = 25\n",
    "sample = 4\n",
    "alpha = 4.053e-05\n",
    "k = 4.25\n",
    "predicted_time = alpha * m_max ** k\n",
    "total_predicted_time = alpha * m_max ** (k + 1) / (k + 1)\n",
    "print(f'predicted time: {sample * predicted_time:.2f} seconds, {sample * predicted_time / 60:.2f} minutes')\n",
    "print(f'total predicted time: {sample * total_predicted_time:.2f} seconds, {sample * total_predicted_time / 60:.2f} minutes')\n",
    "bench_v1 = np.array(benchmark_f(compute_polynomials, m_max, sample=sample))\n",
    "print(f\"{bench_v1[-1]: .2f} seconds\")"
   ]
  },
  {
   "cell_type": "code",
   "execution_count": 105,
   "metadata": {},
   "outputs": [
    {
     "name": "stdout",
     "output_type": "stream",
     "text": [
      "predicted time: 33.33 seconds, 0.56 minutes\n",
      "total predicted time: 444.38 seconds, 7.41 minutes\n"
     ]
    },
    {
     "data": {
      "application/vnd.jupyter.widget-view+json": {
       "model_id": "611fab6b24be4407afe370990140b662",
       "version_major": 2,
       "version_minor": 0
      },
      "text/plain": [
       "  0%|          | 0/50 [00:00<?, ?it/s]"
      ]
     },
     "metadata": {},
     "output_type": "display_data"
    },
    {
     "name": "stdout",
     "output_type": "stream",
     "text": [
      " 1.51 seconds\n"
     ]
    }
   ],
   "source": [
    "m_max = 50\n",
    "sample = 10\n",
    "alpha = 7.742e-07\n",
    "k = 3.75\n",
    "predicted_time = alpha * m_max ** k\n",
    "total_predicted_time = alpha * m_max ** (k + 1) / (k + 1)\n",
    "print(f'predicted time: {sample * predicted_time:.2f} seconds, {sample * predicted_time / 60:.2f} minutes')\n",
    "print(f'total predicted time: {sample * total_predicted_time:.2f} seconds, {sample * total_predicted_time / 60:.2f} minutes')\n",
    "bench_v2 = np.array(benchmark_f(compute_polynomials_v2, m_max, sample=sample))\n",
    "print(f\"{bench_v2[-1]: .2f} seconds\")"
   ]
  },
  {
   "cell_type": "code",
   "execution_count": 27,
   "metadata": {},
   "outputs": [
    {
     "name": "stdout",
     "output_type": "stream",
     "text": [
      "predicted time: 17.97 seconds, 0.30 minutes\n",
      "total predicted time: 359.40 seconds, 5.99 minutes\n"
     ]
    },
    {
     "data": {
      "application/vnd.jupyter.widget-view+json": {
       "model_id": "b113e9cc747141a7b0856020adf92710",
       "version_major": 2,
       "version_minor": 0
      },
      "text/plain": [
       "  0%|          | 0/100 [00:00<?, ?it/s]"
      ]
     },
     "metadata": {},
     "output_type": "display_data"
    },
    {
     "name": "stdout",
     "output_type": "stream",
     "text": [
      " 5.25 seconds\n"
     ]
    }
   ],
   "source": [
    "m_max = 100\n",
    "sample = 10\n",
    "alpha = 1.797e-08\n",
    "k = 4\n",
    "predicted_time = alpha * m_max ** k\n",
    "total_predicted_time = alpha * m_max ** (k + 1) / (k + 1)\n",
    "print(f'predicted time: {sample * predicted_time:.2f} seconds, {sample * predicted_time / 60:.2f} minutes')\n",
    "print(f'total predicted time: {sample * total_predicted_time:.2f} seconds, {sample * total_predicted_time / 60:.2f} minutes')\n",
    "bench_v3 = np.array(benchmark_f(compute_polynomials_v4, m_max, sample=sample))\n",
    "print(f\"{bench_v3[-1]: .2f} seconds\")"
   ]
  },
  {
   "cell_type": "code",
   "execution_count": 11,
   "metadata": {},
   "outputs": [
    {
     "data": {
      "text/plain": [
       "121.84875531170537"
      ]
     },
     "execution_count": 11,
     "metadata": {},
     "output_type": "execute_result"
    }
   ],
   "source": [
    "alpha = 7.536e-08\n",
    "k = 3.75\n",
    "(5 / alpha) ** (1 / k)"
   ]
  },
  {
   "cell_type": "code",
   "execution_count": 28,
   "metadata": {},
   "outputs": [
    {
     "name": "stdout",
     "output_type": "stream",
     "text": [
      "t(m) = 1.812e-06m^3 ?\n",
      "t(m) = 6.226e-07m^3.25 ?\n",
      "t(m) = 2.156e-07m^3.5 ?\n",
      "t(m) = 7.536e-08m^3.75 ?\n",
      "t(m) = 2.666e-08m^4 ?\n",
      "t(m) = 9.585e-09m^4.25 ?\n",
      "t(m) = 3.520e-09m^4.5 ?\n"
     ]
    },
    {
     "data": {
      "text/plain": [
       "<matplotlib.legend.Legend at 0x7fe5c83e3a60>"
      ]
     },
     "execution_count": 28,
     "metadata": {},
     "output_type": "execute_result"
    },
    {
     "data": {
      "image/png": "[encoded data removed]",
      "text/plain": [
       "<Figure size 640x480 with 1 Axes>"
      ]
     },
     "metadata": {},
     "output_type": "display_data"
    }
   ],
   "source": [
    "bench = bench_v3\n",
    "m_max = bench.shape[0]\n",
    "\n",
    "for k in (3, 3.25, 3.5, 3.75, 4, 4.25, 4.5):\n",
    "    c = np.mean(bench[5:] / np.arange(5, m_max) ** k)\n",
    "    print(f\"t(m) = {c:.3e}m^{k} ?\")\n",
    "    plt.plot(range(1, m_max + 1), bench / np.arange(1, m_max + 1) ** k, label=f'log(t(m)) - {k}log(m)')\n",
    "plt.axhline(bench[1] / 8, color='black', linestyle='--')\n",
    "plt.ylabel('time (s)')\n",
    "plt.xlabel('m')\n",
    "plt.legend()"
   ]
  },
  {
   "cell_type": "code",
   "execution_count": 73,
   "metadata": {},
   "outputs": [
    {
     "data": {
      "text/plain": [
       "<matplotlib.legend.Legend at 0x7f95a0cfe040>"
      ]
     },
     "execution_count": 73,
     "metadata": {},
     "output_type": "execute_result"
    },
    {
     "data": {
      "image/png": "[encoded data removed]",
      "text/plain": [
       "<Figure size 640x480 with 1 Axes>"
      ]
     },
     "metadata": {},
     "output_type": "display_data"
    }
   ],
   "source": [
    "plt.plot(range(1, m_max + 1), bench_v1, label='v1')\n",
    "plt.plot(range(1, m_max + 1), bench_v2, label='v2')\n",
    "plt.ylabel('time (s)')\n",
    "plt.xlabel('m')\n",
    "plt.yscale('log')\n",
    "plt.legend()"
   ]
  },
  {
   "cell_type": "code",
   "execution_count": 41,
   "metadata": {},
   "outputs": [
    {
     "name": "stderr",
     "output_type": "stream",
     "text": [
      "/tmp/ipykernel_9759/654318562.py:1: RuntimeWarning: divide by zero encountered in divide\n",
      "  plt.plot(range(1, m_max + 1), np.log(bench_v1) / np.log(np.arange(1, m_max + 1)), label='v1')\n",
      "/tmp/ipykernel_9759/654318562.py:2: RuntimeWarning: divide by zero encountered in divide\n",
      "  plt.plot(range(1, m_max + 1), np.log(bench_v2) / np.log(np.arange(1, m_max + 1)), label='v2')\n"
     ]
    },
    {
     "data": {
      "text/plain": [
       "<matplotlib.legend.Legend at 0x7f95dc2f4e20>"
      ]
     },
     "execution_count": 41,
     "metadata": {},
     "output_type": "execute_result"
    },
    {
     "data": {
      "image/png": "[encoded data removed]",
      "text/plain": [
       "<Figure size 640x480 with 1 Axes>"
      ]
     },
     "metadata": {},
     "output_type": "display_data"
    }
   ],
   "source": [
    "plt.plot(range(1, m_max + 1), np.log(bench_v1) / np.log(np.arange(1, m_max + 1)), label='v1')\n",
    "plt.plot(range(1, m_max + 1), np.log(bench_v2) / np.log(np.arange(1, m_max + 1)), label='v2')\n",
    "plt.ylabel('time (s)')\n",
    "plt.xlabel('m')\n",
    "plt.legend()"
   ]
  },
  {
   "cell_type": "code",
   "execution_count": 18,
   "metadata": {},
   "outputs": [
    {
     "name": "stdout",
     "output_type": "stream",
     "text": [
      "410 ms ± 5.15 ms per loop (mean ± std. dev. of 7 runs, 1 loop each)\n"
     ]
    }
   ],
   "source": [
    "%%timeit\n",
    "_ = compute_polynomials(10)"
   ]
  },
  {
   "cell_type": "code",
   "execution_count": 5,
   "metadata": {},
   "outputs": [
    {
     "data": {
      "text/plain": [
       "array([[[ 0.05555556,  0.61111111,  0.33333333],\n",
       "        [-0.16666667, -0.16666667,  0.33333333],\n",
       "        [ 0.11111111, -0.44444444,  0.33333333]],\n",
       "\n",
       "       [[-0.05555556, -0.27777778,  0.33333333],\n",
       "        [ 0.11111111,  0.55555556,  0.33333333],\n",
       "        [-0.05555556, -0.27777778,  0.33333333]],\n",
       "\n",
       "       [[ 0.11111111, -0.44444444,  0.33333333],\n",
       "        [-0.16666667, -0.16666667,  0.33333333],\n",
       "        [ 0.05555556,  0.61111111,  0.33333333]]])"
      ]
     },
     "execution_count": 5,
     "metadata": {},
     "output_type": "execute_result"
    }
   ],
   "source": [
    "compute_polynomials_v2(3)"
   ]
  },
  {
   "cell_type": "code",
   "execution_count": 37,
   "metadata": {},
   "outputs": [
    {
     "data": {
      "application/vnd.jupyter.widget-view+json": {
       "model_id": "e53ea5487c804603b4588673373fb65c",
       "version_major": 2,
       "version_minor": 0
      },
      "text/plain": [
       "  0%|          | 0/29 [00:00<?, ?it/s]"
      ]
     },
     "metadata": {},
     "output_type": "display_data"
    }
   ],
   "source": [
    "m = 1\n",
    "for m in tqdm(range(1, 30)):\n",
    "    # u = compute_polynomials(m)\n",
    "    u = compute_polynomials_v2(m)\n",
    "    u_v2 = compute_polynomials_v4(m)\n",
    "    for x in range(m):\n",
    "        for mu in range(m):\n",
    "            ok = np.max(np.abs(u_v2[mu, x] - u[mu, x])) < 1e-5\n",
    "            if not ok:\n",
    "                print(f\"{m=}, {x=}, {mu=}\")\n",
    "                p = u_v2[mu, x]\n",
    "                print(\"Old\")\n",
    "                print(np.round(u[mu, x], 3))\n",
    "                print(\"New\")\n",
    "                print(np.round(p, 3))\n",
    "                print(\"Diff\")\n",
    "                print(np.round(np.abs(u_v2[mu, x] - u[mu, x]), 3))\n",
    "                print(\"Max diff\")\n",
    "                print(np.max(np.abs(u_v2[mu, x] - u[mu, x])))\n",
    "                raise Exception('not ok')"
   ]
  },
  {
   "cell_type": "code",
   "execution_count": 38,
   "metadata": {},
   "outputs": [
    {
     "data": {
      "application/vnd.jupyter.widget-view+json": {
       "model_id": "b9de30cd13f34dbd935fe065fc006106",
       "version_major": 2,
       "version_minor": 0
      },
      "text/plain": [
       "  0%|          | 0/29 [00:00<?, ?it/s]"
      ]
     },
     "metadata": {},
     "output_type": "display_data"
    }
   ],
   "source": [
    "m = 1\n",
    "for m in tqdm(range(1, 30)):\n",
    "    # u = compute_polynomials(m)\n",
    "    u = compute_polynomials_v2(m)\n",
    "    u_v2 = compute_polynomials_v3(m)\n",
    "    for x in range(m):\n",
    "        for mu in range(m):\n",
    "            ok = np.max(np.abs(u_v2[mu, x] - u[mu, x])) < 1e-5\n",
    "            if not ok:\n",
    "                print(f\"{m=}, {x=}, {mu=}\")\n",
    "                p = u_v2[mu, x]\n",
    "                print(\"Old\")\n",
    "                print(np.round(u[mu, x], 3))\n",
    "                print(\"New\")\n",
    "                print(np.round(p, 3))\n",
    "                print(\"Diff\")\n",
    "                print(np.round(np.abs(u_v2[mu, x] - u[mu, x]), 3))\n",
    "                print(\"Max diff\")\n",
    "                print(np.max(np.abs(u_v2[mu, x] - u[mu, x])))\n",
    "                raise Exception('not ok')"
   ]
  },
  {
   "cell_type": "code",
   "execution_count": 13,
   "metadata": {},
   "outputs": [
    {
     "data": {
      "text/plain": [
       "array([[[ 0.05555556,  0.61111111,  0.33333333],\n",
       "        [-0.16666667, -0.16666667,  0.33333333],\n",
       "        [ 0.11111111, -0.44444444,  0.33333333]],\n",
       "\n",
       "       [[-0.05555556, -0.27777778,  0.33333333],\n",
       "        [ 0.11111111,  0.55555556,  0.33333333],\n",
       "        [-0.05555556, -0.27777778,  0.33333333]],\n",
       "\n",
       "       [[ 0.11111111, -0.44444444,  0.33333333],\n",
       "        [-0.16666667, -0.16666667,  0.33333333],\n",
       "        [ 0.05555556,  0.61111111,  0.33333333]]])"
      ]
     },
     "execution_count": 13,
     "metadata": {},
     "output_type": "execute_result"
    }
   ],
   "source": [
    "compute_polynomials(3)"
   ]
  },
  {
   "cell_type": "code",
   "execution_count": 6,
   "metadata": {},
   "outputs": [],
   "source": [
    "def bos_data_log_likelihood(m: int, data: np.ndarray, mu: int, pi: float) -> float:\n",
    "    weights = group_sum(m, data)\n",
    "    liklihoods = observation_likelihood(m, mu, pi)\n",
    "    liklihoods[weights == 0] = 1\n",
    "    return np.sum(weights * np.log(liklihoods))"
   ]
  },
  {
   "cell_type": "code",
   "execution_count": 7,
   "metadata": {},
   "outputs": [],
   "source": [
    "def gen_data(m: int, n: int, seed: int = None) -> np.ndarray:\n",
    "    if seed is not None:\n",
    "        np.random.seed(seed)\n",
    "    \n",
    "    true_mu = np.random.randint(1, m + 1)\n",
    "    true_pi = np.random.rand()\n",
    "\n",
    "    print(f'true_mu: {true_mu}, true_pi: {true_pi}')\n",
    "\n",
    "    np.random.seed(seed)\n",
    "    data = np.array([bos_model(m, true_mu, true_pi) for _ in range(n)])\n",
    "    return data, true_mu, true_pi"
   ]
  },
  {
   "cell_type": "code",
   "execution_count": 8,
   "metadata": {},
   "outputs": [],
   "source": [
    "def get_polynomial(m: int, mu: int) -> np.ndarray:\n",
    "    \"\"\"\n",
    "    \n",
    "    P(x | mu, pi) = sum_{i=1}^{m - 1} v(x, mu, i) * pi ** i\n",
    "    \n",
    "    Returns:\n",
    "        v, np.ndarray of shape (m, m):\n",
    "            v[i, j] = v(i, mu, j)\n",
    "    \"\"\"\n",
    "    pi_sample = np.arange(1, m + 1) / (m + 1)\n",
    "    y = np.empty((m, m))\n",
    "    for i in range(m):\n",
    "        y[:, i] = observation_likelihood(m, mu, pi_sample[i])\n",
    "    \n",
    "    v = np.empty((m, m))\n",
    "    for i in range(m):\n",
    "        poly = lagrange(pi_sample, y[i]).coefficients\n",
    "        v[i, -poly.shape[0]:] = poly\n",
    "    return v\n"
   ]
  },
  {
   "cell_type": "code",
   "execution_count": 9,
   "metadata": {},
   "outputs": [
    {
     "data": {
      "text/plain": [
       "array([[ 0.05555556,  0.61111111,  0.33333333],\n",
       "       [-0.16666667, -0.16666667,  0.33333333],\n",
       "       [ 0.11111111, -0.44444444,  0.33333333]])"
      ]
     },
     "execution_count": 9,
     "metadata": {},
     "output_type": "execute_result"
    }
   ],
   "source": [
    "get_polynomial(3, 1)"
   ]
  },
  {
   "cell_type": "code",
   "execution_count": 10,
   "metadata": {},
   "outputs": [
    {
     "data": {
      "text/plain": [
       "array([-4.44089210e-16,  1.00000000e+00, -3.55271368e-15,  0.00000000e+00])"
      ]
     },
     "execution_count": 10,
     "metadata": {},
     "output_type": "execute_result"
    }
   ],
   "source": [
    "lagrange(np.arange(1, 5), np.arange(1, 5) ** 2).coefficients"
   ]
  },
  {
   "cell_type": "code",
   "execution_count": 11,
   "metadata": {},
   "outputs": [
    {
     "data": {
      "application/vnd.jupyter.widget-view+json": {
       "model_id": "4418c5c0002641d08b7e98d33c421d86",
       "version_major": 2,
       "version_minor": 0
      },
      "text/plain": [
       "  0%|          | 0/100 [00:00<?, ?it/s]"
      ]
     },
     "metadata": {},
     "output_type": "display_data"
    },
    {
     "data": {
      "text/plain": [
       "<matplotlib.legend.Legend at 0x7f8648ac97c0>"
      ]
     },
     "execution_count": 11,
     "metadata": {},
     "output_type": "execute_result"
    },
    {
     "data": {
      "image/png": "[encoded data removed]",
      "text/plain": [
       "<Figure size 1000x500 with 1 Axes>"
      ]
     },
     "metadata": {},
     "output_type": "display_data"
    }
   ],
   "source": [
    "# plot the polynomial\n",
    "m = 4\n",
    "mu = 1\n",
    "\n",
    "nb_points = 100\n",
    "delta = 1e-10\n",
    "pi_range = np.linspace(0 + delta, 1 - delta, nb_points)\n",
    "log_likelihoods = np.zeros((m, nb_points))\n",
    "for i in tqdm(range(nb_points)):\n",
    "    log_likelihoods[:, i] = observation_likelihood(m, mu, pi_range[i])\n",
    "\n",
    "polynomial = get_polynomial(m, mu)\n",
    "\n",
    "plt.figure(figsize=(10, 5))\n",
    "for i in range(m):\n",
    "    prev = plt.plot(pi_range, log_likelihoods[i, :], label=f'x={i + 1}', linestyle='--')\n",
    "    # plt.plot(pi_range, np.polyval(polynomial[i, :], pi_range), linestyle=':', label=f'x={i + 1} (poly)', color=prev[0].get_color())\n",
    "    plt.plot(pi_range, np.polyval(polynomial[i, :], pi_range), linestyle=':', label=f'x={i + 1} (poly)', color='black')\n",
    "plt.legend()"
   ]
  },
  {
   "cell_type": "code",
   "execution_count": 14,
   "metadata": {},
   "outputs": [
    {
     "data": {
      "text/plain": [
       "0.21913580246913605"
      ]
     },
     "execution_count": 14,
     "metadata": {},
     "output_type": "execute_result"
    }
   ],
   "source": [
    "np.polyval(polynomial[1, :], 1/3)"
   ]
  },
  {
   "cell_type": "code",
   "execution_count": 9,
   "metadata": {},
   "outputs": [
    {
     "name": "stdout",
     "output_type": "stream",
     "text": [
      "true_mu: 2, true_pi: 0.781966975946223\n"
     ]
    },
    {
     "data": {
      "application/vnd.jupyter.widget-view+json": {
       "model_id": "f477ff2ace6f455388bdc46e146f1ce3",
       "version_major": 2,
       "version_minor": 0
      },
      "text/plain": [
       "  0%|          | 0/100 [00:00<?, ?it/s]"
      ]
     },
     "metadata": {},
     "output_type": "display_data"
    },
    {
     "name": "stdout",
     "output_type": "stream",
     "text": [
      "mu = 2,\t pi = 0.78\n",
      "best mu = 2,\t best pi = 0.77\n"
     ]
    },
    {
     "data": {
      "text/plain": [
       "<matplotlib.legend.Legend at 0x7f4d61615730>"
      ]
     },
     "execution_count": 9,
     "metadata": {},
     "output_type": "execute_result"
    },
    {
     "data": {
      "image/png": "[encoded data removed]",
      "text/plain": [
       "<Figure size 1000x500 with 1 Axes>"
      ]
     },
     "metadata": {},
     "output_type": "display_data"
    }
   ],
   "source": [
    "# gen data\n",
    "seed = 629\n",
    "n = 1_000\n",
    "m = 4\n",
    "\n",
    "data, true_mu, true_pi = gen_data(m, n, seed)\n",
    "\n",
    "nb_points = 100\n",
    "delta = 1e-10\n",
    "pi_range = np.linspace(0 + delta, 1 - delta, nb_points)\n",
    "log_likelihoods = np.zeros((m, nb_points))\n",
    "for i in tqdm(range(nb_points)):\n",
    "    for j in range(m):\n",
    "        log_likelihoods[j, i] = bos_data_log_likelihood(m, data, j + 1, pi_range[i])\n",
    "\n",
    "best_mu = np.argmax(log_likelihoods.max(axis=1)) + 1\n",
    "best_pi = pi_range[np.argmax(log_likelihoods.max(axis=0))]\n",
    "print(f\"mu = {true_mu},\\t pi = {true_pi:.2f}\")\n",
    "print(f\"best mu = {best_mu},\\t best pi = {best_pi:.2f}\")\n",
    "\n",
    "if best_mu != true_mu:\n",
    "    print('WARNING: best mu is not true mu')\n",
    "\n",
    "\n",
    "plt.figure(figsize=(10, 5))\n",
    "for i in range(m):\n",
    "    plt.plot(pi_range, log_likelihoods[i, :], label=f'mu = {i + 1}', linewidth=3 if i + 1 == true_mu else 1)\n",
    "\n",
    "plt.axvline(true_pi, color='black', linestyle='--', label='true pi')\n",
    "plt.axvline(best_pi, color='black', linestyle=':', label='best pi')\n",
    "plt.legend()"
   ]
  },
  {
   "cell_type": "code",
   "execution_count": 10,
   "metadata": {},
   "outputs": [
    {
     "data": {
      "text/plain": [
       "64.72746046450796"
      ]
     },
     "execution_count": 10,
     "metadata": {},
     "output_type": "execute_result"
    }
   ],
   "source": [
    "epsilon = 1e-6\n",
    "2 * (log(epsilon, 2) + 1) / (1 - log(3, 2))"
   ]
  },
  {
   "cell_type": "code",
   "execution_count": 11,
   "metadata": {},
   "outputs": [
    {
     "data": {
      "text/plain": [
       "1000.0"
      ]
     },
     "execution_count": 11,
     "metadata": {},
     "output_type": "execute_result"
    }
   ],
   "source": [
    "1 / 1e-3"
   ]
  },
  {
   "cell_type": "code",
   "execution_count": 12,
   "metadata": {},
   "outputs": [
    {
     "name": "stdout",
     "output_type": "stream",
     "text": [
      "seed: 651\n",
      "true_mu: 4, true_pi: 0.7505895270970079\n",
      "EM algorithm for 1 converged after 69 iterations\n",
      "EM algorithm for 2 converged after 100 iterations\n",
      "EM algorithm for 3 converged after 100 iterations\n",
      "EM algorithm for 4 converged after 40 iterations\n",
      "EM algorithm for 5 converged after 100 iterations\n"
     ]
    },
    {
     "data": {
      "text/plain": [
       "(4,\n",
       " 0.7641694455508141,\n",
       " -850.954463240598,\n",
       " array([0.02952353, 0.04936358, 0.08531473, 0.7660858 , 0.06971237]))"
      ]
     },
     "execution_count": 12,
     "metadata": {},
     "output_type": "execute_result"
    }
   ],
   "source": [
    "#Univariate\n",
    "n = 1000\n",
    "m = 5\n",
    "n_iter = 100\n",
    "eps = 1e-6\n",
    "\n",
    "seed = np.random.randint(0, 1000)\n",
    "print(f'seed: {seed}')\n",
    "data, true_mu, true_pi = gen_data(m, n, seed)\n",
    "\n",
    "\n",
    "univariate_em(m, data, n_iter=n_iter, eps=eps)"
   ]
  },
  {
   "cell_type": "code",
   "execution_count": 6,
   "metadata": {},
   "outputs": [],
   "source": [
    "def compute_ll(m, data, mu, pi):\n",
    "    s = 0\n",
    "    for x in data:\n",
    "        s += np.log(_probability_x_given_mu_pi(m, x, mu, pi))\n",
    "    return s"
   ]
  },
  {
   "cell_type": "code",
   "execution_count": 7,
   "metadata": {},
   "outputs": [
    {
     "name": "stdout",
     "output_type": "stream",
     "text": [
      "true_mu: 1, true_pi: 0.5928446182250183\n"
     ]
    }
   ],
   "source": [
    "#Univariate\n",
    "n = 100\n",
    "m = 2\n",
    "seed = 0\n",
    "\n",
    "\n",
    "data, true_mu, true_pi = gen_data(m, n, seed)"
   ]
  },
  {
   "cell_type": "code",
   "execution_count": null,
   "metadata": {},
   "outputs": [
    {
     "name": "stdout",
     "output_type": "stream",
     "text": [
      "True mu: 3, True pi: 0.7955347461391471\n",
      "EM algorithm for 1 converged after 30 iterations\n",
      "EM algorithm for 2 converged after 56 iterations\n",
      "EM algorithm for 3 converged after 18 iterations\n",
      "EM algorithm for 4 converged after 49 iterations\n",
      "Estimated mu: 3, Estimated pi: 0.7889801558710181, LL: -68.02711866951702 \n",
      "Indepentent LL: -68.02668453582108\n",
      "True LL: -68.03263564329843\n"
     ]
    }
   ],
   "source": [
    "eps = 1e-3\n",
    "print(\"True mu: {}, True pi: {}\".format(true_mu, true_pi))\n",
    "mu, pi, ll, _ = univariate_em(m=m, data=data, eps=eps)\n",
    "\n",
    "print(\n",
    "    \"Estimated mu: {}, Estimated pi: {}, LL: {} \".format(\n",
    "        mu, pi, ll\n",
    "    )\n",
    ")\n",
    "print(\"Indepentent LL: {}\".format(compute_ll(m, data, mu, pi)))\n",
    "print(\"True LL: {}\".format(compute_ll(m, data, true_mu, true_pi)))"
   ]
  },
  {
   "cell_type": "code",
   "execution_count": null,
   "metadata": {},
   "outputs": [
    {
     "name": "stdout",
     "output_type": "stream",
     "text": [
      "True mu: 3, True pi: 0.7955347461391471\n",
      "Estimated mu: 3, Estimated pi: 0.790420090140681, LL: -68.02618236086607 \n",
      "Indepentent LL: -68.02618236086613\n",
      "True LL: -68.03263564329843\n"
     ]
    }
   ],
   "source": [
    "#Univariate\n",
    "m = 4\n",
    "eps = 1e-10\n",
    "\n",
    "\n",
    "print(\"True mu: {}, True pi: {}\".format(true_mu, true_pi))\n",
    "mu, pi, ll, _ = estimate_mu_pi_bos(m=m, data=data, epsilon=eps)\n",
    "\n",
    "print(\n",
    "    \"Estimated mu: {}, Estimated pi: {}, LL: {} \".format(\n",
    "        mu, pi, ll\n",
    "    )\n",
    ")\n",
    "print(\"Indepentent LL: {}\".format(compute_ll(m, data, mu, pi)))\n",
    "print(\"True LL: {}\".format(compute_ll(m, data, true_mu, true_pi)))"
   ]
  },
  {
   "cell_type": "code",
   "execution_count": 221,
   "metadata": {},
   "outputs": [
    {
     "name": "stdout",
     "output_type": "stream",
     "text": [
      "0.03925\n"
     ]
    }
   ],
   "source": [
    "m = 4\n",
    "x = 3\n",
    "mu = 2\n",
    "pi = 0.9\n",
    "\n",
    "print(_probability_x_given_mu_pi(m, x, mu, pi))"
   ]
  },
  {
   "cell_type": "code",
   "execution_count": 223,
   "metadata": {},
   "outputs": [
    {
     "data": {
      "text/plain": [
       "0.03924999999999999"
      ]
     },
     "execution_count": 223,
     "metadata": {},
     "output_type": "execute_result"
    }
   ],
   "source": [
    "aux_probability_x_given_mu_pi(1, m + 1, m, x, mu, pi)"
   ]
  },
  {
   "cell_type": "code",
   "execution_count": 141,
   "metadata": {},
   "outputs": [],
   "source": [
    "mu = 2\n",
    "pi = 0.9"
   ]
  },
  {
   "cell_type": "code",
   "execution_count": 142,
   "metadata": {},
   "outputs": [
    {
     "data": {
      "text/plain": [
       "(0.04999999999999999, 0.04999999999999999)"
      ]
     },
     "execution_count": 142,
     "metadata": {},
     "output_type": "execute_result"
    }
   ],
   "source": [
    "x = 1\n",
    "_probability_x_given_mu_pi(m=2, x=x, mu=mu, pi=pi), pi * (mu <= x) + (1 - pi)  / 2"
   ]
  },
  {
   "cell_type": "code",
   "execution_count": 143,
   "metadata": {},
   "outputs": [
    {
     "data": {
      "text/plain": [
       "(0.95, 0.95)"
      ]
     },
     "execution_count": 143,
     "metadata": {},
     "output_type": "execute_result"
    }
   ],
   "source": [
    "x = 2\n",
    "_probability_x_given_mu_pi(m=2, x=x, mu=mu, pi=pi), pi * (mu > x - 1) + (1 - pi)  / 2"
   ]
  },
  {
   "cell_type": "code",
   "execution_count": 217,
   "metadata": {},
   "outputs": [],
   "source": [
    "def loc_aux_probability_x_given_mu_pi(lower: int, \n",
    "                                  upper: int,\n",
    "                                  m: int, \n",
    "                                  x: int, \n",
    "                                  mu: int, \n",
    "                                  pi: float,\n",
    "                                  depth: int = 0\n",
    "                                  ) -> float:\n",
    "    \"\"\"\n",
    "    If e_i = [[ lower, upper[[ is the first interval of the trajectory\n",
    "    compute P(x, e_i | mu, pi) = sum_{e_2, ..., e_{m-1}} P(e_1, ..., e_{m-1}, x | mu, pi)\n",
    "    = sum_{e_2, ..., e_{m-1}} prod_{i=1}^{m-1} P(e_{i+1} | e_i, mu, pi)\n",
    "    = sum_{e_2} P(e_2 | e_1, mu, pi) sum_{e_3, ..., e_{m-1}} prod_{i=2}^{m-1} P(e_{i+1} | e_i, mu, pi)\n",
    "    = sum_{e_2} P(e_2 | e_1, x, mu, pi) P(x, e_2, mu, pi)\n",
    "    \"\"\"\n",
    "    # if lower + 1 == upper:\n",
    "    #     return 1\n",
    "    print('    ' * depth + '-' * 20)\n",
    "    print(f\"{'    ' * depth}{lower=}, {upper=}\")\n",
    "    s = 0\n",
    "    p_e_min = 0\n",
    "    for y in range(lower, x):\n",
    "        good_choice = mu > y\n",
    "        # if upper == x + 1:\n",
    "        #     good_choice = good_choice or (mu == x)\n",
    "        print(f\"{'    ' * depth}y={y} (e_+)\")\n",
    "        print(f\"{'    ' * depth}  good_choice={good_choice}\")\n",
    "        py = (pi * good_choice + (1 - pi) * (upper - y - 1) / (upper - lower)) \\\n",
    "            * loc_aux_probability_x_given_mu_pi(y + 1, upper, m, x, mu, pi, depth=depth + 1)\n",
    "        print(f\"{'    ' * depth}  {py=:.2f}\")\n",
    "        p_e_min += py\n",
    "    # print(f\"{'    ' * depth}p_e_min={p_e_min}\")\n",
    "    print(f\"{'    ' * depth}y={x} (e_=)\")\n",
    "    good_choice = mu == x\n",
    "    if lower == x:  # e_- = e_=\n",
    "        good_choice = good_choice or (mu <= x)\n",
    "    if upper == x + 1:  # e_+ = e_=\n",
    "        good_choice = good_choice or (mu >= x)\n",
    "    print(f\"{'    ' * depth}  {good_choice=}\")\n",
    "    p_e_eq = pi * good_choice + (1 - pi)  / (upper - lower)\n",
    "    print(f\"{'    ' * depth}  py={p_e_eq:.2f}\")\n",
    "    p_e_max = 0\n",
    "    for y in range(x + 1, upper):\n",
    "        print(f\"{'    ' * depth}y={y} (e_-)\")\n",
    "        print(f\"{'    ' * depth}  good_choice={mu < y}\")\n",
    "        py = (pi * (mu < y) + (1 - pi) * (y - lower) / (upper - lower)) \\\n",
    "            * loc_aux_probability_x_given_mu_pi(lower, y, m, x, mu, pi, depth=depth + 1)\n",
    "        p_e_max += py\n",
    "        print(f\"{'    ' * depth}  {py=:.2f}\")\n",
    "    # print(f\"{'    ' * depth}p_e_max={p_e_max}\")\n",
    "    s = p_e_min + p_e_eq + p_e_max\n",
    "    print(f\"{'    ' * depth}p_tot={s  / (upper - lower):.2f}\")\n",
    "    print('    ' * depth + '-' * 20)\n",
    "    return s  / (upper - lower)\n"
   ]
  },
  {
   "cell_type": "code",
   "execution_count": 218,
   "metadata": {},
   "outputs": [],
   "source": [
    "mu = 1"
   ]
  },
  {
   "cell_type": "code",
   "execution_count": 219,
   "metadata": {},
   "outputs": [
    {
     "name": "stdout",
     "output_type": "stream",
     "text": [
      "mu=1, x=1\n",
      "Expected: 0.95\n",
      "--------------------\n",
      "lower=1, upper=3\n",
      "y=1 (e_=)\n",
      "  good_choice=True\n",
      "  py=0.95\n",
      "y=2 (e_-)\n",
      "  good_choice=True\n",
      "    --------------------\n",
      "    lower=1, upper=2\n",
      "    y=1 (e_=)\n",
      "      good_choice=True\n",
      "      py=1.00\n",
      "    p_tot=1.00\n",
      "    --------------------\n",
      "  py=0.95\n",
      "p_tot=0.95\n",
      "--------------------\n"
     ]
    },
    {
     "data": {
      "text/plain": [
       "0.95"
      ]
     },
     "execution_count": 219,
     "metadata": {},
     "output_type": "execute_result"
    }
   ],
   "source": [
    "x = 1\n",
    "print(f\"mu={mu}, x={x}\")\n",
    "print(f\"Expected: {pi * (mu <= x) + (1 - pi)  / 2}\")\n",
    "loc_aux_probability_x_given_mu_pi(1, 3, m=2, x=x, mu=mu, pi=pi)"
   ]
  },
  {
   "cell_type": "code",
   "execution_count": 220,
   "metadata": {},
   "outputs": [
    {
     "name": "stdout",
     "output_type": "stream",
     "text": [
      "mu=1, x=2\n",
      "Expected: 0.05\n",
      "--------------------\n",
      "lower=1, upper=3\n",
      "y=1 (e_+)\n",
      "  good_choice=False\n",
      "    --------------------\n",
      "    lower=2, upper=3\n",
      "    y=2 (e_=)\n",
      "      good_choice=True\n",
      "      py=1.00\n",
      "    p_tot=1.00\n",
      "    --------------------\n",
      "  py=0.05\n",
      "y=2 (e_=)\n",
      "  good_choice=False\n",
      "  py=0.05\n",
      "p_tot=0.05\n",
      "--------------------\n"
     ]
    },
    {
     "data": {
      "text/plain": [
       "0.04999999999999999"
      ]
     },
     "execution_count": 220,
     "metadata": {},
     "output_type": "execute_result"
    }
   ],
   "source": [
    "x = 2\n",
    "print(f\"mu={mu}, x={x}\")\n",
    "print(f\"Expected: {pi * (mu > x - 1) + (1 - pi)  / 2:.2f}\")\n",
    "loc_aux_probability_x_given_mu_pi(1, 3, m=2, x=x, mu=mu, pi=pi)"
   ]
  },
  {
   "cell_type": "code",
   "execution_count": null,
   "metadata": {},
   "outputs": [],
   "source": []
  }
 ],
 "metadata": {
  "kernelspec": {
   "display_name": "ENV_3_9_15",
   "language": "python",
   "name": "python3"
  },
  "language_info": {
   "codemirror_mode": {
    "name": "ipython",
    "version": 3
   },
   "file_extension": ".py",
   "mimetype": "text/x-python",
   "name": "python",
   "nbconvert_exporter": "python",
   "pygments_lexer": "ipython3",
   "version": "3.10.13"
  }
 },
 "nbformat": 4,
 "nbformat_minor": 2
}
