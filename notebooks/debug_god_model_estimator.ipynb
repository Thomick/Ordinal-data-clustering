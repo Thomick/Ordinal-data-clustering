{
 "cells": [
  {
   "cell_type": "code",
   "execution_count": 8,
   "metadata": {},
   "outputs": [
    {
     "name": "stdout",
     "output_type": "stream",
     "text": [
      "The autoreload extension is already loaded. To reload it, use:\n",
      "  %reload_ext autoreload\n"
     ]
    }
   ],
   "source": [
    "%load_ext autoreload\n",
    "%autoreload 2"
   ]
  },
  {
   "cell_type": "code",
   "execution_count": 326,
   "metadata": {},
   "outputs": [],
   "source": [
    "import sys\n",
    "try:\n",
    "    if path:\n",
    "        raise Exception('changed')\n",
    "except:\n",
    "    path = True\n",
    "    sys.path.append('../')\n",
    "\n",
    "from src.god_model_generator import god_model_sample\n",
    "from src.god_model_estimator import estimate_mu_pi, probability_distribution_xs_given_pi, estimate_mu_given_pi, probability_distribution_x_given_pi, likelihood_distribution_xs_given_pi, estimate_mu_pi_grid\n",
    "from src.compute_u import compute_u\n",
    "from src.god_model_tools import evaluate_polynomial\n",
    "import numpy as np\n",
    "import matplotlib.pyplot as plt"
   ]
  },
  {
   "cell_type": "code",
   "execution_count": 327,
   "metadata": {},
   "outputs": [],
   "source": [
    "def probability_x_given_pi_mu_from_u(m: int, x:int, pi: float, mu: int, u: np.ndarray) -> float:\n",
    "    \"\"\" \n",
    "    Returns P(X=x | pi, mu) computed from u\n",
    "    P(X=x | pi, mu) = pi^m sum_{d=0}^m [ (1-pi) / pi ]^d u[mu, x, d]\n",
    "    \n",
    "    Parameters\n",
    "    ----------\n",
    "    m : int\n",
    "        Number of categories\n",
    "    x : int\n",
    "        Observed category\n",
    "    pi : float\n",
    "        Probability of error\n",
    "    mu : int\n",
    "        Supposed true category\n",
    "    u : np.ndarray\n",
    "        u coefficients computed with compute_u\n",
    "    \n",
    "    Returns\n",
    "    -------\n",
    "    float\n",
    "        P(X=x | pi, mu)\n",
    "    \"\"\"\n",
    "    p = pi**m * np.sum(((1-pi) / pi)**np.arange(m+1) * u[mu, x - 1, :])\n",
    "    p_ = pi ** m * evaluate_polynomial(u[mu, x - 1], (1-pi) / pi)\n",
    "    assert np.isclose(p, p_), f\"p={p} != p_={p_}\"\n",
    "    assert 0 <= p <= 1, f\"p={p} not in [0, 1]\"\n",
    "    return p"
   ]
  },
  {
   "cell_type": "code",
   "execution_count": 328,
   "metadata": {},
   "outputs": [],
   "source": [
    "M = 5\n",
    "u = compute_u(M)"
   ]
  },
  {
   "cell_type": "code",
   "execution_count": 329,
   "metadata": {},
   "outputs": [
    {
     "name": "stdout",
     "output_type": "stream",
     "text": [
      "mu=1, mu_hat=2, argmax P(X | mu) 1 = mu ? Y, pi=0.6, pi_hat=0.54 X\n",
      "mu=1, mu_hat=2, argmax P(X | mu) 1 = mu ? Y, pi=0.7, pi_hat=0.61 X\n",
      "mu=1, mu_hat=2, argmax P(X | mu) 1 = mu ? Y, pi=0.8, pi_hat=0.61 X\n",
      "mu=1, mu_hat=2, argmax P(X | mu) 1 = mu ? Y, pi=0.9, pi_hat=0.55 X\n"
     ]
    },
    {
     "name": "stderr",
     "output_type": "stream",
     "text": [
      "/media/DData/Data/M2/Cours/Probabilistic graphical models/Projet/Ordinal-data-clustering/tests/god_model_estimator.py:69: RuntimeWarning: divide by zero encountered in log\n",
      "  \"\"\"\n"
     ]
    },
    {
     "name": "stdout",
     "output_type": "stream",
     "text": [
      "mu=1, mu_hat=1, argmax P(X | mu) 1 = mu ? Y, pi=1.0, pi_hat=1.00 O\n",
      "mu=2, mu_hat=3, argmax P(X | mu) 2 = mu ? Y, pi=0.6, pi_hat=0.51 X\n",
      "mu=2, mu_hat=3, argmax P(X | mu) 2 = mu ? Y, pi=0.7, pi_hat=0.60 X\n",
      "mu=2, mu_hat=3, argmax P(X | mu) 2 = mu ? Y, pi=0.8, pi_hat=0.63 X\n",
      "mu=2, mu_hat=3, argmax P(X | mu) 2 = mu ? Y, pi=0.9, pi_hat=0.65 X\n",
      "mu=2, mu_hat=2, argmax P(X | mu) 2 = mu ? Y, pi=1.0, pi_hat=1.00 O\n",
      "mu=3, mu_hat=2, argmax P(X | mu) 3 = mu ? Y, pi=0.6, pi_hat=0.51 X\n",
      "mu=3, mu_hat=1, argmax P(X | mu) 3 = mu ? Y, pi=0.7, pi_hat=0.51 X\n",
      "mu=3, mu_hat=2, argmax P(X | mu) 3 = mu ? Y, pi=0.8, pi_hat=0.69 X\n",
      "mu=3, mu_hat=4, argmax P(X | mu) 3 = mu ? Y, pi=0.9, pi_hat=0.69 X\n",
      "mu=3, mu_hat=3, argmax P(X | mu) 3 = mu ? Y, pi=1.0, pi_hat=1.00 O\n",
      "mu=4, mu_hat=3, argmax P(X | mu) 4 = mu ? Y, pi=0.6, pi_hat=0.51 X\n",
      "mu=4, mu_hat=3, argmax P(X | mu) 4 = mu ? Y, pi=0.7, pi_hat=0.59 X\n",
      "mu=4, mu_hat=3, argmax P(X | mu) 4 = mu ? Y, pi=0.8, pi_hat=0.67 X\n",
      "mu=4, mu_hat=3, argmax P(X | mu) 4 = mu ? Y, pi=0.9, pi_hat=0.66 X\n",
      "mu=4, mu_hat=4, argmax P(X | mu) 4 = mu ? Y, pi=1.0, pi_hat=1.00 O\n",
      "mu=5, mu_hat=4, argmax P(X | mu) 5 = mu ? Y, pi=0.6, pi_hat=0.51 X\n",
      "mu=5, mu_hat=4, argmax P(X | mu) 5 = mu ? Y, pi=0.7, pi_hat=0.59 X\n",
      "mu=5, mu_hat=4, argmax P(X | mu) 5 = mu ? Y, pi=0.8, pi_hat=0.62 X\n",
      "mu=5, mu_hat=4, argmax P(X | mu) 5 = mu ? Y, pi=0.9, pi_hat=0.56 X\n",
      "mu=5, mu_hat=5, argmax P(X | mu) 5 = mu ? Y, pi=1.0, pi_hat=1.00 O\n"
     ]
    }
   ],
   "source": [
    "for i in range(1, 6):\n",
    "    for pi in [0.6, 0.7, 0.8, 0.9, 1.0]:\n",
    "        xs = god_model_sample(m=5, mu=i, pi=pi, n_sample=1_000, seed=0)\n",
    "        mu_hat, pi_hat, _ = estimate_mu_pi(m=5, data=xs, n_iter_max=10_000, pi_zero=0.7)\n",
    "        mu_hat_knowing_pi = estimate_mu_given_pi(m=5, data=xs, pi=pi)\n",
    "        print(f\"mu={i}, mu_hat={mu_hat}, argmax P(X | mu) {mu_hat_knowing_pi} = mu ? {'Y' if mu_hat_knowing_pi == i else 'N' * 10}, pi={pi}, pi_hat={pi_hat:.2f} {'O' if mu_hat == i else 'X'}\")"
   ]
  },
  {
   "cell_type": "code",
   "execution_count": 336,
   "metadata": {},
   "outputs": [
    {
     "name": "stderr",
     "output_type": "stream",
     "text": [
      "/media/DData/Data/M2/Cours/Probabilistic graphical models/Projet/Ordinal-data-clustering/tests/god_model_estimator.py:166: RuntimeWarning: divide by zero encountered in log\n",
      "  log_likelihood += np.log(evaluate_polynomial(p=u_mu[x - 1], x=t))\n"
     ]
    },
    {
     "name": "stdout",
     "output_type": "stream",
     "text": [
      "mu=1, mu_hat=1, argmax P(X | mu) 1 = mu ? Y, pi=0.6, pi_hat=0.61 O\n",
      "mu=1, mu_hat=1, argmax P(X | mu) 1 = mu ? Y, pi=0.7, pi_hat=0.70 O\n",
      "mu=1, mu_hat=1, argmax P(X | mu) 1 = mu ? Y, pi=0.8, pi_hat=0.79 O\n",
      "mu=1, mu_hat=1, argmax P(X | mu) 1 = mu ? Y, pi=0.9, pi_hat=0.90 O\n"
     ]
    },
    {
     "name": "stderr",
     "output_type": "stream",
     "text": [
      "/media/DData/Data/M2/Cours/Probabilistic graphical models/Projet/Ordinal-data-clustering/tests/god_model_estimator.py:69: RuntimeWarning: divide by zero encountered in log\n",
      "  p += np.log(probability_distribution_x_given_pi(m, x, pi))\n"
     ]
    },
    {
     "name": "stdout",
     "output_type": "stream",
     "text": [
      "mu=1, mu_hat=1, argmax P(X | mu) 1 = mu ? Y, pi=1.0, pi_hat=1.00 O\n",
      "mu=2, mu_hat=2, argmax P(X | mu) 2 = mu ? Y, pi=0.6, pi_hat=0.60 O\n",
      "mu=2, mu_hat=2, argmax P(X | mu) 2 = mu ? Y, pi=0.7, pi_hat=0.69 O\n",
      "mu=2, mu_hat=2, argmax P(X | mu) 2 = mu ? Y, pi=0.8, pi_hat=0.79 O\n",
      "mu=2, mu_hat=2, argmax P(X | mu) 2 = mu ? Y, pi=0.9, pi_hat=0.89 O\n",
      "mu=2, mu_hat=2, argmax P(X | mu) 2 = mu ? Y, pi=1.0, pi_hat=1.00 O\n",
      "mu=3, mu_hat=3, argmax P(X | mu) 3 = mu ? Y, pi=0.6, pi_hat=0.61 O\n",
      "mu=3, mu_hat=3, argmax P(X | mu) 3 = mu ? Y, pi=0.7, pi_hat=0.71 O\n",
      "mu=3, mu_hat=3, argmax P(X | mu) 3 = mu ? Y, pi=0.8, pi_hat=0.79 O\n",
      "mu=3, mu_hat=3, argmax P(X | mu) 3 = mu ? Y, pi=0.9, pi_hat=0.89 O\n",
      "mu=3, mu_hat=3, argmax P(X | mu) 3 = mu ? Y, pi=1.0, pi_hat=1.00 O\n",
      "mu=4, mu_hat=4, argmax P(X | mu) 4 = mu ? Y, pi=0.6, pi_hat=0.60 O\n",
      "mu=4, mu_hat=4, argmax P(X | mu) 4 = mu ? Y, pi=0.7, pi_hat=0.69 O\n",
      "mu=4, mu_hat=4, argmax P(X | mu) 4 = mu ? Y, pi=0.8, pi_hat=0.80 O\n",
      "mu=4, mu_hat=4, argmax P(X | mu) 4 = mu ? Y, pi=0.9, pi_hat=0.89 O\n",
      "mu=4, mu_hat=4, argmax P(X | mu) 4 = mu ? Y, pi=1.0, pi_hat=1.00 O\n",
      "mu=5, mu_hat=5, argmax P(X | mu) 5 = mu ? Y, pi=0.6, pi_hat=0.61 O\n",
      "mu=5, mu_hat=5, argmax P(X | mu) 5 = mu ? Y, pi=0.7, pi_hat=0.70 O\n",
      "mu=5, mu_hat=5, argmax P(X | mu) 5 = mu ? Y, pi=0.8, pi_hat=0.79 O\n",
      "mu=5, mu_hat=5, argmax P(X | mu) 5 = mu ? Y, pi=0.9, pi_hat=0.89 O\n",
      "mu=5, mu_hat=5, argmax P(X | mu) 5 = mu ? Y, pi=1.0, pi_hat=1.00 O\n"
     ]
    }
   ],
   "source": [
    "for i in range(1, 6):\n",
    "    for pi in [0.6, 0.7, 0.8, 0.9, 1.0]:\n",
    "        xs = god_model_sample(m=5, mu=i, pi=pi, n_sample=1_000, seed=0)\n",
    "        mu_hat, pi_hat, _ = estimate_mu_pi_grid(m=5, data=xs, nb_pi=100)\n",
    "        mu_hat_knowing_pi = estimate_mu_given_pi(m=5, data=xs, pi=pi)\n",
    "        print(f\"mu={i}, mu_hat={mu_hat}, argmax P(X | mu) {mu_hat_knowing_pi} = mu ? {'Y' if mu_hat_knowing_pi == i else 'N' * 10}, pi={pi}, pi_hat={pi_hat:.2f} {'O' if mu_hat == i else 'X'}\")"
   ]
  },
  {
   "cell_type": "code",
   "execution_count": 330,
   "metadata": {},
   "outputs": [
    {
     "data": {
      "text/plain": [
       "array([2, 2, 2, 3, 2, 2, 2, 4, 2, 2, 1, 2, 2, 2, 1, 2, 2, 4, 2, 2, 2, 2,\n",
       "       2, 3, 2, 2, 2, 1, 1, 2, 2, 2, 3, 2, 2, 2, 3, 2, 1, 2, 2, 4, 2, 2,\n",
       "       2, 2, 2, 2, 2, 2, 2, 2, 2, 3, 4, 2, 4, 2, 3, 2, 3, 2, 2, 2, 2, 2,\n",
       "       2, 2, 2, 2, 2, 3, 2, 2, 4, 2, 1, 1, 2, 2, 2, 2, 2, 2, 2, 2, 2, 1,\n",
       "       1, 2, 4, 2, 2, 1, 4, 2, 2, 2, 1, 2])"
      ]
     },
     "execution_count": 330,
     "metadata": {},
     "output_type": "execute_result"
    }
   ],
   "source": [
    "mu = 2\n",
    "PI = 0.9\n",
    "xs = god_model_sample(m=M, mu=mu, pi=PI, n_sample=100, seed=0)\n",
    "xs"
   ]
  },
  {
   "cell_type": "code",
   "execution_count": 335,
   "metadata": {},
   "outputs": [
    {
     "name": "stderr",
     "output_type": "stream",
     "text": [
      "/media/DData/Data/M2/Cours/Probabilistic graphical models/Projet/Ordinal-data-clustering/tests/god_model_estimator.py:166: RuntimeWarning: divide by zero encountered in log\n",
      "  log_likelihood += np.log(evaluate_polynomial(p=u_mu[x - 1], x=t))\n"
     ]
    },
    {
     "name": "stdout",
     "output_type": "stream",
     "text": [
      "1.23 s ± 23.3 ms per loop (mean ± std. dev. of 7 runs, 1 loop each)\n"
     ]
    }
   ],
   "source": [
    "%%timeit\n",
    "estimate_mu_pi_grid(m=M, data=xs, nb_pi=1_000)"
   ]
  },
  {
   "cell_type": "code",
   "execution_count": 334,
   "metadata": {},
   "outputs": [
    {
     "ename": "KeyboardInterrupt",
     "evalue": "",
     "output_type": "error",
     "traceback": [
      "\u001b[0;31m---------------------------------------------------------------------------\u001b[0m",
      "\u001b[0;31mKeyboardInterrupt\u001b[0m                         Traceback (most recent call last)",
      "Cell \u001b[0;32mIn [334], line 5\u001b[0m\n\u001b[1;32m      3\u001b[0m abscisses \u001b[38;5;241m=\u001b[39m np\u001b[38;5;241m.\u001b[39mlinspace(\u001b[38;5;241m0\u001b[39m, \u001b[38;5;241m1\u001b[39m, nb_point)\n\u001b[1;32m      4\u001b[0m \u001b[38;5;28;01mfor\u001b[39;00m i, pi \u001b[38;5;129;01min\u001b[39;00m \u001b[38;5;28menumerate\u001b[39m(abscisses):\n\u001b[0;32m----> 5\u001b[0m     likelihoods[i] \u001b[38;5;241m=\u001b[39m \u001b[43mlikelihood_distribution_xs_given_pi\u001b[49m\u001b[43m(\u001b[49m\u001b[43mm\u001b[49m\u001b[38;5;241;43m=\u001b[39;49m\u001b[38;5;241;43m5\u001b[39;49m\u001b[43m,\u001b[49m\u001b[43m \u001b[49m\u001b[43mdata\u001b[49m\u001b[38;5;241;43m=\u001b[39;49m\u001b[43mxs\u001b[49m\u001b[43m,\u001b[49m\u001b[43m \u001b[49m\u001b[43mpi\u001b[49m\u001b[38;5;241;43m=\u001b[39;49m\u001b[43mpi\u001b[49m\u001b[43m)\u001b[49m[mu \u001b[38;5;241m-\u001b[39m \u001b[38;5;241m1\u001b[39m]\n\u001b[1;32m      6\u001b[0m abscisses[likelihoods\u001b[38;5;241m.\u001b[39margmax()]\n",
      "File \u001b[0;32m/media/DData/Data/M2/Cours/Probabilistic graphical models/Projet/Ordinal-data-clustering/tests/god_model_estimator.py:69\u001b[0m, in \u001b[0;36mlikelihood_distribution_xs_given_pi\u001b[0;34m(m, data, pi)\u001b[0m\n\u001b[1;32m     67\u001b[0m p \u001b[38;5;241m=\u001b[39m np\u001b[38;5;241m.\u001b[39mzeros(m)\n\u001b[1;32m     68\u001b[0m \u001b[38;5;28;01mfor\u001b[39;00m x \u001b[38;5;129;01min\u001b[39;00m data:\n\u001b[0;32m---> 69\u001b[0m     p \u001b[38;5;241m+\u001b[39m\u001b[38;5;241m=\u001b[39m np\u001b[38;5;241m.\u001b[39mlog(\u001b[43mprobability_distribution_x_given_pi\u001b[49m\u001b[43m(\u001b[49m\u001b[43mm\u001b[49m\u001b[43m,\u001b[49m\u001b[43m \u001b[49m\u001b[43mx\u001b[49m\u001b[43m,\u001b[49m\u001b[43m \u001b[49m\u001b[43mpi\u001b[49m\u001b[43m)\u001b[49m)\n\u001b[1;32m     70\u001b[0m \u001b[38;5;28;01mreturn\u001b[39;00m p\n",
      "File \u001b[0;32m/media/DData/Data/M2/Cours/Probabilistic graphical models/Projet/Ordinal-data-clustering/tests/god_model_estimator.py:20\u001b[0m, in \u001b[0;36mprobability_distribution_x_given_pi\u001b[0;34m(m, x, pi)\u001b[0m\n\u001b[1;32m      7\u001b[0m \u001b[38;5;28;01mdef\u001b[39;00m \u001b[38;5;21mprobability_distribution_x_given_pi\u001b[39m(m: \u001b[38;5;28mint\u001b[39m, x: \u001b[38;5;28mint\u001b[39m, pi: \u001b[38;5;28mfloat\u001b[39m) \u001b[38;5;241m-\u001b[39m\u001b[38;5;241m>\u001b[39m np\u001b[38;5;241m.\u001b[39mndarray:\n\u001b[1;32m      8\u001b[0m     \u001b[38;5;124;03m\"\"\"\u001b[39;00m\n\u001b[1;32m      9\u001b[0m \u001b[38;5;124;03m    Compute P(x | mu, pi)\u001b[39;00m\n\u001b[1;32m     10\u001b[0m \u001b[38;5;124;03m    Complexity: O(2^n_cat * n_cat)\u001b[39;00m\n\u001b[0;32m   (...)\u001b[0m\n\u001b[1;32m     18\u001b[0m \u001b[38;5;124;03m        [ P(x | mu, pi) for mu in [[1, n_cat]] ]\u001b[39;00m\n\u001b[1;32m     19\u001b[0m \u001b[38;5;124;03m    \"\"\"\u001b[39;00m\n\u001b[0;32m---> 20\u001b[0m     distance \u001b[38;5;241m=\u001b[39m \u001b[43mget_all_errors\u001b[49m\u001b[43m(\u001b[49m\u001b[43mm\u001b[49m\u001b[43m)\u001b[49m\n\u001b[1;32m     21\u001b[0m     is_minimal: np\u001b[38;5;241m.\u001b[39mndarray \u001b[38;5;241m=\u001b[39m np\u001b[38;5;241m.\u001b[39mmin(distance, axis\u001b[38;5;241m=\u001b[39m\u001b[38;5;241m1\u001b[39m)[:, \u001b[38;5;28;01mNone\u001b[39;00m] \u001b[38;5;241m==\u001b[39m distance\n\u001b[1;32m     22\u001b[0m     card_min \u001b[38;5;241m=\u001b[39m np\u001b[38;5;241m.\u001b[39msum(is_minimal, axis\u001b[38;5;241m=\u001b[39m\u001b[38;5;241m1\u001b[39m)\n",
      "File \u001b[0;32m/media/DData/Data/M2/Cours/Probabilistic graphical models/Projet/Ordinal-data-clustering/tests/compute_u.py:39\u001b[0m, in \u001b[0;36mget_all_errors\u001b[0;34m(n_cat)\u001b[0m\n\u001b[1;32m     37\u001b[0m all_errors \u001b[38;5;241m=\u001b[39m np\u001b[38;5;241m.\u001b[39mzeros((\u001b[38;5;241m2\u001b[39m \u001b[38;5;241m*\u001b[39m\u001b[38;5;241m*\u001b[39m n_cat, n_cat), dtype\u001b[38;5;241m=\u001b[39m\u001b[38;5;28mint\u001b[39m)\n\u001b[1;32m     38\u001b[0m \u001b[38;5;28;01mfor\u001b[39;00m i, order_info \u001b[38;5;129;01min\u001b[39;00m enumerate_order_info(n_cat):\n\u001b[0;32m---> 39\u001b[0m     all_errors[i] \u001b[38;5;241m=\u001b[39m \u001b[43mcount_errors\u001b[49m\u001b[43m(\u001b[49m\u001b[43morder_info\u001b[49m\u001b[43m)\u001b[49m\n\u001b[1;32m     41\u001b[0m \u001b[38;5;28;01mreturn\u001b[39;00m all_errors\n",
      "File \u001b[0;32m~/anaconda3/envs/ENV_3_9_15/lib/python3.9/site-packages/numba/core/serialize.py:29\u001b[0m, in \u001b[0;36m_numba_unpickle\u001b[0;34m(address, bytedata, hashed)\u001b[0m\n\u001b[1;32m     25\u001b[0m \u001b[38;5;66;03m# Keep unpickled object via `numba_unpickle` alive.\u001b[39;00m\n\u001b[1;32m     26\u001b[0m _unpickled_memo \u001b[38;5;241m=\u001b[39m {}\n\u001b[0;32m---> 29\u001b[0m \u001b[38;5;28;01mdef\u001b[39;00m \u001b[38;5;21m_numba_unpickle\u001b[39m(address, bytedata, hashed):\n\u001b[1;32m     30\u001b[0m     \u001b[38;5;124;03m\"\"\"Used by `numba_unpickle` from _helperlib.c\u001b[39;00m\n\u001b[1;32m     31\u001b[0m \n\u001b[1;32m     32\u001b[0m \u001b[38;5;124;03m    Parameters\u001b[39;00m\n\u001b[0;32m   (...)\u001b[0m\n\u001b[1;32m     41\u001b[0m \u001b[38;5;124;03m        unpickled object\u001b[39;00m\n\u001b[1;32m     42\u001b[0m \u001b[38;5;124;03m    \"\"\"\u001b[39;00m\n\u001b[1;32m     43\u001b[0m     key \u001b[38;5;241m=\u001b[39m (address, hashed)\n",
      "\u001b[0;31mKeyboardInterrupt\u001b[0m: "
     ]
    }
   ],
   "source": [
    "nb_point = 10_000\n",
    "likelihoods = np.empty(nb_point)\n",
    "abscisses = np.linspace(0, 1, nb_point)\n",
    "for i, pi in enumerate(abscisses):\n",
    "    likelihoods[i] = likelihood_distribution_xs_given_pi(m=5, data=xs, pi=pi)[mu - 1]\n",
    "abscisses[likelihoods.argmax()]"
   ]
  },
  {
   "cell_type": "code",
   "execution_count": 321,
   "metadata": {},
   "outputs": [
    {
     "data": {
      "text/plain": [
       "<matplotlib.legend.Legend at 0x7f74df5407c0>"
      ]
     },
     "execution_count": 321,
     "metadata": {},
     "output_type": "execute_result"
    },
    {
     "data": {
      "image/png": "[encoded data removed]",
      "text/plain": [
       "<Figure size 640x480 with 1 Axes>"
      ]
     },
     "metadata": {},
     "output_type": "display_data"
    }
   ],
   "source": [
    "plt.plot(abscisses, likelihoods, label='P(X | pi) ')\n",
    "plt.axvline(x=PI, color='r', label='pi')\n",
    "plt.axvline(x=abscisses[likelihoods.argmax()], linestyle='--', color='r', label='argmax P(X | pi)')\n",
    "plt.xlabel('pi')\n",
    "plt.ylabel('P(X | pi)')\n",
    "plt.legend()"
   ]
  },
  {
   "cell_type": "code",
   "execution_count": 322,
   "metadata": {},
   "outputs": [
    {
     "data": {
      "text/plain": [
       "(3, 0.6541576019351939, -170.54125949158865)"
      ]
     },
     "execution_count": 322,
     "metadata": {},
     "output_type": "execute_result"
    }
   ],
   "source": [
    "mu_hat, pi_hat, ll, all_pis, all_lls = estimate_mu_pi(m=5, data=xs, pi_zero=0.7, n_iter_max=10, evolution=True)\n",
    "mu_hat, pi_hat, ll"
   ]
  },
  {
   "cell_type": "code",
   "execution_count": 325,
   "metadata": {},
   "outputs": [
    {
     "data": {
      "text/plain": [
       "[-116.47216730695854,\n",
       " -93.8656153616994,\n",
       " -90.48023425176959,\n",
       " -96.28393465495735,\n",
       " -106.63133708508208,\n",
       " -119.33045059125757,\n",
       " -133.28814801659558,\n",
       " -147.93379511540775,\n",
       " -162.9602486340026,\n",
       " -178.1990407867262,\n",
       " -193.55673042727082]"
      ]
     },
     "execution_count": 325,
     "metadata": {},
     "output_type": "execute_result"
    }
   ],
   "source": [
    "all_lls[mu - 1]"
   ]
  },
  {
   "cell_type": "code",
   "execution_count": 324,
   "metadata": {},
   "outputs": [
    {
     "data": {
      "text/plain": [
       "[0.7,\n",
       " 0.8288319296960821,\n",
       " 0.9040474240644942,\n",
       " 0.9462928239285157,\n",
       " 0.9698912654871437,\n",
       " 0.9830941061269071,\n",
       " 0.9904970626574114,\n",
       " 0.9946547111009637,\n",
       " 0.9969921372323651,\n",
       " 0.9983070461798422,\n",
       " 0.9990470075535007]"
      ]
     },
     "execution_count": 324,
     "metadata": {},
     "output_type": "execute_result"
    }
   ],
   "source": [
    "all_pis[mu - 1]"
   ]
  },
  {
   "cell_type": "code",
   "execution_count": 293,
   "metadata": {},
   "outputs": [
    {
     "data": {
      "text/plain": [
       "2"
      ]
     },
     "execution_count": 293,
     "metadata": {},
     "output_type": "execute_result"
    }
   ],
   "source": [
    "probability_distribution_xs_given_pi(M, xs, pi=0.6).argmax() + 1"
   ]
  },
  {
   "cell_type": "code",
   "execution_count": 295,
   "metadata": {},
   "outputs": [
    {
     "data": {
      "text/plain": [
       "2"
      ]
     },
     "execution_count": 295,
     "metadata": {},
     "output_type": "execute_result"
    }
   ],
   "source": [
    "likelihood_distribution_xs_given_pi(M, xs, pi=0.6).argmax() + 1"
   ]
  },
  {
   "cell_type": "code",
   "execution_count": null,
   "metadata": {},
   "outputs": [],
   "source": []
  },
  {
   "cell_type": "code",
   "execution_count": 211,
   "metadata": {},
   "outputs": [
    {
     "data": {
      "text/plain": [
       "array([0.        , 0.        , 0.83333333, 3.33333333, 3.5       ,\n",
       "       1.        ])"
      ]
     },
     "execution_count": 211,
     "metadata": {},
     "output_type": "execute_result"
    }
   ],
   "source": [
    "p = u[0, 4]\n",
    "pi = 0.5623323468237743\n"
   ]
  },
  {
   "cell_type": "code",
   "execution_count": 214,
   "metadata": {},
   "outputs": [
    {
     "data": {
      "text/plain": [
       "0.1824"
      ]
     },
     "execution_count": 214,
     "metadata": {},
     "output_type": "execute_result"
    }
   ],
   "source": [
    "probability_x_given_pi_mu_from_u(m=5, x=5, pi=pi, mu=1, u=u)"
   ]
  },
  {
   "cell_type": "code",
   "execution_count": null,
   "metadata": {},
   "outputs": [],
   "source": [
    "pi = 0.5623323468237743\n",
    "\n",
    "evaluate_polynomial()"
   ]
  },
  {
   "cell_type": "code",
   "execution_count": 202,
   "metadata": {},
   "outputs": [],
   "source": []
  },
  {
   "cell_type": "code",
   "execution_count": 203,
   "metadata": {},
   "outputs": [],
   "source": []
  },
  {
   "cell_type": "code",
   "execution_count": 205,
   "metadata": {},
   "outputs": [
    {
     "data": {
      "text/plain": [
       "array([[1.        , 3.5       , 3.33333333, 0.83333333, 0.        ,\n",
       "        0.        ],\n",
       "       [0.        , 1.        , 2.5       , 1.5       , 0.        ,\n",
       "        0.        ],\n",
       "       [0.        , 0.5       , 1.83333333, 1.83333333, 0.5       ,\n",
       "        0.        ],\n",
       "       [0.        , 0.        , 1.5       , 2.5       , 1.        ,\n",
       "        0.        ],\n",
       "       [0.        , 0.        , 0.83333333, 3.33333333, 3.5       ,\n",
       "        1.        ]])"
      ]
     },
     "execution_count": 205,
     "metadata": {},
     "output_type": "execute_result"
    }
   ],
   "source": [
    "u[0]"
   ]
  },
  {
   "cell_type": "code",
   "execution_count": 220,
   "metadata": {},
   "outputs": [
    {
     "data": {
      "text/plain": [
       "array([1, 1, 1, 1, 1, 3, 1, 1, 4, 1, 2, 1, 1, 1, 2, 1, 1, 1, 1, 1])"
      ]
     },
     "execution_count": 220,
     "metadata": {},
     "output_type": "execute_result"
    }
   ],
   "source": [
    "xs = god_model_sample(m=M, mu=1, pi=0.9, n_sample=20, seed=0)\n",
    "xs"
   ]
  },
  {
   "cell_type": "code",
   "execution_count": null,
   "metadata": {},
   "outputs": [],
   "source": []
  },
  {
   "cell_type": "code",
   "execution_count": 221,
   "metadata": {},
   "outputs": [],
   "source": [
    "for x in range(1, M + 1):\n",
    "    for pi in [0.5, 0.6, 0.7, 0.8, 0.9, 1.0]:\n",
    "        error = np.abs(probability_distribution_x_given_pi(m=5, x=x, pi=pi) - np.array([probability_x_given_pi_mu_from_u(m=M, x=x, pi=pi, mu=mu, u=u) for mu in range(M)]))\n",
    "        if error.max() > 1e-10:\n",
    "            print(f\"Error for x={x} is {error.max()}\")"
   ]
  },
  {
   "cell_type": "code",
   "execution_count": null,
   "metadata": {},
   "outputs": [],
   "source": []
  },
  {
   "cell_type": "code",
   "execution_count": null,
   "metadata": {},
   "outputs": [],
   "source": []
  },
  {
   "cell_type": "code",
   "execution_count": 283,
   "metadata": {},
   "outputs": [
    {
     "data": {
      "text/plain": [
       "(5, 0.9887969371114416, -17.029888312294442)"
      ]
     },
     "execution_count": 283,
     "metadata": {},
     "output_type": "execute_result"
    }
   ],
   "source": [
    "mu_hat, pi_hat, ll = estimate_mu_pi(m=5, data=xs, pi_zero=0.51, n_iter_max=10, evolution=False)\n",
    "mu_hat, pi_hat, ll"
   ]
  },
  {
   "cell_type": "code",
   "execution_count": 285,
   "metadata": {},
   "outputs": [
    {
     "data": {
      "text/plain": [
       "-11.794786516899228"
      ]
     },
     "execution_count": 285,
     "metadata": {},
     "output_type": "execute_result"
    }
   ],
   "source": [
    "np.log(probability_distribution_xs_given_pi(m=5, data=xs, pi=0.9922093981395159)[4])"
   ]
  },
  {
   "cell_type": "code",
   "execution_count": 239,
   "metadata": {},
   "outputs": [
    {
     "data": {
      "text/plain": [
       "[0.5, 0.51, 0.51]"
      ]
     },
     "execution_count": 239,
     "metadata": {},
     "output_type": "execute_result"
    }
   ],
   "source": [
    "all_pis[1]"
   ]
  },
  {
   "cell_type": "code",
   "execution_count": 240,
   "metadata": {},
   "outputs": [
    {
     "data": {
      "text/plain": [
       "[-130.62516534463455, -134.8258349448356, -134.8258349448356]"
      ]
     },
     "execution_count": 240,
     "metadata": {},
     "output_type": "execute_result"
    }
   ],
   "source": [
    "all_lls[0]"
   ]
  },
  {
   "cell_type": "code",
   "execution_count": null,
   "metadata": {},
   "outputs": [],
   "source": []
  },
  {
   "cell_type": "code",
   "execution_count": null,
   "metadata": {},
   "outputs": [],
   "source": []
  }
 ],
 "metadata": {
  "kernelspec": {
   "display_name": "ENV_3_9_15",
   "language": "python",
   "name": "python3"
  },
  "language_info": {
   "codemirror_mode": {
    "name": "ipython",
    "version": 3
   },
   "file_extension": ".py",
   "mimetype": "text/x-python",
   "name": "python",
   "nbconvert_exporter": "python",
   "pygments_lexer": "ipython3",
   "version": "3.9.15"
  }
 },
 "nbformat": 4,
 "nbformat_minor": 2
}
